{
 "cells": [
  {
   "cell_type": "markdown",
   "metadata": {},
   "source": [
    "## Load Library"
   ]
  },
  {
   "cell_type": "code",
   "execution_count": 1,
   "metadata": {},
   "outputs": [
    {
     "name": "stderr",
     "output_type": "stream",
     "text": [
      "/Users/h0s060n/Documents/anaconda3/envs/sem_env/lib/python3.8/site-packages/tqdm/auto.py:22: TqdmWarning: IProgress not found. Please update jupyter and ipywidgets. See https://ipywidgets.readthedocs.io/en/stable/user_install.html\n",
      "  from .autonotebook import tqdm as notebook_tqdm\n"
     ]
    }
   ],
   "source": [
    "import os\n",
    "import re\n",
    "import time\n",
    "import gzip\n",
    "import faiss\n",
    "import string\n",
    "import pickle\n",
    "import numpy as np\n",
    "import pandas as pd\n",
    "import seaborn as sns\n",
    "\n",
    "from typing import List\n",
    "from collections import Counter\n",
    "from nltk.corpus import stopwords\n",
    "from sklearn.metrics import accuracy_score\n",
    "from nltk.tokenize import word_tokenize as tokenize\n",
    "from sklearn.model_selection import train_test_split\n",
    "from sentence_transformers import SentenceTransformer\n",
    "from sklearn.metrics import classification_report,confusion_matrix\n",
    "\n",
    "pd.set_option('display.max_rows', None)\n",
    "pd.set_option('display.max_columns', None)\n",
    "pd.set_option('display.max_colwidth', None)"
   ]
  },
  {
   "cell_type": "markdown",
   "metadata": {},
   "source": [
    "## LOAD Data is skipped as we will be using train and test files from befor notebook "
   ]
  },
  {
   "cell_type": "code",
   "execution_count": 2,
   "metadata": {},
   "outputs": [],
   "source": [
    "# STEP 1 - DOWNLOAD DATA FROM ( http://jmcauley.ucsd.edu/data/amazon/ )\n",
    "# For this semantic search classification we have taken 4 categories\n",
    "\n",
    "# def parse(path):\n",
    "#   g = gzip.open(path, 'rb')\n",
    "#   for l in g:\n",
    "#     yield eval(l)\n",
    "\n",
    "# def getDF(path):\n",
    "#   i = 0\n",
    "#   df = {}\n",
    "#   for d in parse(path):\n",
    "#     df[i] = d\n",
    "#     i += 1\n",
    "#   return pd.DataFrame.from_dict(df, orient='index')\n",
    "\n",
    "# cat1_baby = getDF('./data/reviews_Baby_5.json.gz')\n",
    "# cat2_beauty = getDF('./data/reviews_Beauty_5.json.gz')\n",
    "# cat3_grocery=getDF('./data/reviews_Grocery_and_Gourmet_Food_5.json.gz')\n",
    "# cat4_music=getDF('./data/reviews_Musical_Instruments_5.json.gz')\n",
    "\n",
    "# # create category column for each file (dataframe)\n",
    "# cat1_baby[\"category\"]=\"baby\"\n",
    "# cat2_beauty[\"category\"]=\"beauty\"\n",
    "# cat3_grocery[\"category\"]=\"grocery\"\n",
    "# cat4_music[\"category\"]=\"music\""
   ]
  },
  {
   "cell_type": "code",
   "execution_count": 4,
   "metadata": {},
   "outputs": [],
   "source": [
    "# cat1_baby.head(2)"
   ]
  },
  {
   "cell_type": "markdown",
   "metadata": {},
   "source": [
    "## Take Uneven Samples"
   ]
  },
  {
   "cell_type": "code",
   "execution_count": 5,
   "metadata": {},
   "outputs": [],
   "source": [
    "## randomly take few samples from each dataframe and just to test mis-imblanced scenario we have taken uneven numbers\n",
    "# cat1_baby=cat1_baby[[\"reviewText\",\"category\"]].sample(900)\n",
    "# cat2_beauty=cat2_beauty[[\"reviewText\",\"category\"]].sample(1200)\n",
    "# cat3_grocery=cat3_grocery[[\"reviewText\",\"category\"]].sample(1500)\n",
    "# cat4_music=cat4_music[[\"reviewText\",\"category\"]].sample(3000)\n",
    "# df = pd.concat([cat1_baby,cat2_beauty,cat3_grocery,cat4_music],axis=0).reset_index()[[\"reviewText\",\"category\"]]"
   ]
  },
  {
   "cell_type": "code",
   "execution_count": 6,
   "metadata": {},
   "outputs": [],
   "source": [
    "# print(\"Total Data\",len(df))"
   ]
  },
  {
   "cell_type": "code",
   "execution_count": 7,
   "metadata": {},
   "outputs": [],
   "source": [
    "# df.head(2)"
   ]
  },
  {
   "cell_type": "markdown",
   "metadata": {},
   "source": [
    "## Clean the dataframe "
   ]
  },
  {
   "cell_type": "code",
   "execution_count": 8,
   "metadata": {},
   "outputs": [],
   "source": [
    "stop_words=stopwords.words('english')\n",
    "def clean(text):\n",
    "    text=text.lower()\n",
    "    url_removed=re.sub(r'https\\S+','',text,flags=re.MULTILINE)\n",
    "    text=re.sub(\"[^a-zA-Z]\",\" \",url_removed)\n",
    "    text=re.sub(\"\\.+\",\" \",text)\n",
    "    word_tokens=tokenize(text)\n",
    "    text=[word for word in word_tokens if word  not in stop_words]\n",
    "    text=[word for word in text if word not in string.punctuation]\n",
    "    return \" \".join(text)\n",
    "\n",
    "# df[\"cleaned_review_data\"]=df[\"reviewText\"].apply(lambda x:clean(x))\n",
    "# df[\"category\"].dropna(inplace=True)\n",
    "# df.drop_duplicates(inplace=True)\n",
    "\n",
    "# clean(\"This is  good day . ! ! , I IS  #\")"
   ]
  },
  {
   "cell_type": "code",
   "execution_count": null,
   "metadata": {},
   "outputs": [
    {
     "data": {
      "text/plain": [
       "6599"
      ]
     },
     "execution_count": 12,
     "metadata": {},
     "output_type": "execute_result"
    }
   ],
   "source": [
    "len(df)"
   ]
  },
  {
   "cell_type": "markdown",
   "metadata": {},
   "source": [
    "## Split the Dataframe to train test split"
   ]
  },
  {
   "cell_type": "code",
   "execution_count": 9,
   "metadata": {},
   "outputs": [],
   "source": [
    "# train,test= train_test_split(df,stratify=df[[\"category\"]],test_size=0.2)\n",
    "train=pd.read_csv(\"./data/train_data.csv\") # using the file from previous notebook created step\n",
    "test=pd.read_csv(\"./data/test_data.csv\") # using the file from previous notebook created step\n",
    "train.reset_index(drop=True,inplace=True)\n",
    "test.reset_index(drop=True,inplace=True)"
   ]
  },
  {
   "cell_type": "code",
   "execution_count": 10,
   "metadata": {},
   "outputs": [
    {
     "data": {
      "text/plain": [
       "music      2399\n",
       "grocery    1200\n",
       "beauty      960\n",
       "baby        720\n",
       "Name: category, dtype: int64"
      ]
     },
     "execution_count": 10,
     "metadata": {},
     "output_type": "execute_result"
    }
   ],
   "source": [
    "train['category'].value_counts()"
   ]
  },
  {
   "cell_type": "markdown",
   "metadata": {},
   "source": [
    "# save the train and test to csv file for future use"
   ]
  },
  {
   "cell_type": "code",
   "execution_count": 11,
   "metadata": {},
   "outputs": [],
   "source": [
    "train.to_csv(\"./data/train_data.csv\",index=False)\n",
    "test.to_csv(\"./data/test_data.csv\",index=False)"
   ]
  },
  {
   "cell_type": "markdown",
   "metadata": {},
   "source": [
    "## Create Embeddings for train and create mappings"
   ]
  },
  {
   "cell_type": "code",
   "execution_count": 12,
   "metadata": {},
   "outputs": [],
   "source": [
    "model=SentenceTransformer('sentence-transformers/all-MiniLM-L6-v2')\n",
    "#using earlier obtained files\n",
    "# train_cleaned_texts = train[\"cleaned_review_data\"].tolist()\n",
    "# train_cleaned_texts = list(map(str, train_cleaned_texts))\n",
    "\n",
    "\n",
    "# def get_embeddings(model, sentences: List[str], parallel: bool = True):\n",
    "#     start = time.time()\n",
    "#     if parallel:\n",
    "#         # Start the multi-process pool on all cores\n",
    "#         os.environ[\"TOKENIZERS_PARALLELISM\"] = \"false\"\n",
    "#         pool = model.start_multi_process_pool(target_devices=[\"cpu\"] * 5)\n",
    "#         embeddings = model.encode_multi_process(sentences, pool, batch_size=16)\n",
    "#         model.stop_multi_process_pool(pool)\n",
    "#     else:\n",
    "#         os.environ[\"TOKENIZERS_PARALLELISM\"] = \"true\"\n",
    "#         embeddings = model.encode(\n",
    "#             sentences,\n",
    "#             batch_size=32,\n",
    "#             show_progress_bar=True,\n",
    "#             convert_to_tensor=True,\n",
    "#         )\n",
    "#     print(f\"Time taken to encode {len(sentences)} items: {round(time.time() - start, 2)}\")\n",
    "#     return embeddings.detach().numpy()\n",
    "\n",
    "# train_embeddings = get_embeddings(model=model, sentences=train_cleaned_texts, parallel=False)\n",
    "# print(train_embeddings.shape)\n",
    "\n",
    "# #save embeddings of idea texts\n",
    "# cleaned_train_texts_embeddings_file = f\"./data/train_embeddings_all_minilm_l6_v2.pkl\"\n",
    "# pickle.dump(train_embeddings, open(cleaned_train_texts_embeddings_file, \"wb\"))\n",
    "\n",
    "\n",
    "# #create mappings for index and category this will be later used for faiss\n",
    "# train_category_index_mapping=dict(zip(train.index,train.category))\n",
    "# with open('./data/train_category_index.pickle', 'wb') as handle:\n",
    "#     pickle.dump(train_category_index_mapping, handle, protocol=pickle.HIGHEST_PROTOCOL)"
   ]
  },
  {
   "cell_type": "markdown",
   "metadata": {},
   "source": [
    "## Create Index "
   ]
  },
  {
   "cell_type": "code",
   "execution_count": 13,
   "metadata": {},
   "outputs": [],
   "source": [
    "#load the mappings file which is used for printing category as output\n",
    "def get_mappings(file_name):\n",
    "    with open(file_name, 'rb') as handle:\n",
    "        category_mapping_dict = pickle.load(handle)\n",
    "    return category_mapping_dict\n",
    "\n",
    "#read the embeddings created at earlier step\n",
    "def read_embeddings(file_name):\n",
    "    cleaned_texts_embeddings_file = file_name\n",
    "    if os.path.exists(cleaned_texts_embeddings_file):\n",
    "        with open(cleaned_texts_embeddings_file, \"rb\") as f:\n",
    "            embeddings = pickle.load(f)\n",
    "    temp1=np.asarray(embeddings,dtype=\"float32\")\n",
    "    return temp1\n",
    "\n",
    "#save the index once its created\n",
    "def save_index(index):\n",
    "    path = os.path.join(\"./data/\",\"review_category_train_index_ivf_flat\")\n",
    "    faiss.write_index(index, path)\n",
    "\n",
    "\n",
    "nlist = 5  # number of clusters\n",
    "dimension=384 # embeddings dimension\n",
    "\n",
    "# we have used flat Index and with Inner product\n",
    "def create_index(mappings,samples,nlist=nlist,dimension=dimension):\n",
    "    quantiser = faiss.IndexFlatL2(dimension)  \n",
    "    index = faiss.IndexIVFFlat(quantiser, dimension, nlist,   faiss.METRIC_L2)\n",
    "    index.train(samples)\n",
    "    index.add(samples)   # add the vectors and update the index\n",
    "    print(index.is_trained)  # True\n",
    "    print(index.ntotal)  \n",
    "    index.add_with_ids(samples,np.array(list(mappings.keys())))\n",
    "    save_index(index)\n",
    "    return"
   ]
  },
  {
   "cell_type": "markdown",
   "metadata": {},
   "source": [
    "## call the above functions"
   ]
  },
  {
   "cell_type": "code",
   "execution_count": 14,
   "metadata": {},
   "outputs": [
    {
     "name": "stdout",
     "output_type": "stream",
     "text": [
      "True\n",
      "5279\n"
     ]
    }
   ],
   "source": [
    "mappings = get_mappings(file_name='./data/train_category_index.pickle')\n",
    "samples = read_embeddings(file_name=f\"./data/train_embeddings_all_minilm_l6_v2.pkl\")\n",
    "create_index(mappings=mappings,samples=samples)"
   ]
  },
  {
   "cell_type": "code",
   "execution_count": 15,
   "metadata": {},
   "outputs": [],
   "source": [
    "# print top 2 categories among top5 nearest neighbours returned from index search\n",
    "def most_frequent(result):\n",
    "    top2 = Counter(result)\n",
    "    return top2.most_common(2)\n",
    "\n",
    "\n",
    "#read the index\n",
    "index = faiss.read_index(\"./data/review_category_train_index_ivf_flat\")\n",
    "\n",
    "# embeddings for query\n",
    "def predict_embeddings(query):\n",
    "    query_embedding=model.encode(query)\n",
    "    query_embedding=np.asarray([query_embedding],dtype=\"float32\")\n",
    "    return query_embedding\n",
    "    \n",
    "\n",
    "#predict for given query\n",
    "def predict(query,mappings):\n",
    "    cleaned_query= clean(query)\n",
    "    query_embedding=predict_embeddings(cleaned_query)\n",
    "    faiss.normalize_L2(query_embedding)\n",
    "    D, I = index.search(query_embedding, 5) # d is the distance and I is the index number \n",
    "    for values in I:\n",
    "        for distance in D:\n",
    "            details= {'cleaned_text':train.iloc[values][\"reviewText\"],\n",
    "            'category':train.iloc[values][\"category\"],\n",
    "            'score':distance\n",
    "            }\n",
    "            print(\"===============================================\")\n",
    "            print(pd.DataFrame(details))\n",
    "            print(\"===============================================\")\n",
    "    return most_frequent([mappings[id_] for id_ in I[0]])\n"
   ]
  },
  {
   "cell_type": "code",
   "execution_count": 16,
   "metadata": {},
   "outputs": [
    {
     "name": "stdout",
     "output_type": "stream",
     "text": [
      "===============================================\n",
      "                                                                                                                                                                                                                               cleaned_text  \\\n",
      "3545                                            I bought this tuner because I am learning to play guitar and want to keep my guitar in tuneGreat little tuner that looks good and works even better It works really well, but not perfectly   \n",
      "3545                                            I bought this tuner because I am learning to play guitar and want to keep my guitar in tuneGreat little tuner that looks good and works even better It works really well, but not perfectly   \n",
      "2504  This little tuner is so easy to use and see...I bought two more as presents. The price point was just unbeatable for such a stellar performing tuner. If you don't have a tuner or are looking for a new one, you NEED this one. A+++   \n",
      "2504  This little tuner is so easy to use and see...I bought two more as presents. The price point was just unbeatable for such a stellar performing tuner. If you don't have a tuner or are looking for a new one, you NEED this one. A+++   \n",
      "2511                                                                                         This is a very versatile tuner!  I use it all the time to check my instruments, and keep things sounding good.  Highly recommend this product.   \n",
      "\n",
      "     category     score  \n",
      "3545    music  0.933976  \n",
      "3545    music  0.933976  \n",
      "2504    music  0.953960  \n",
      "2504    music  0.953960  \n",
      "2511    music  0.971377  \n",
      "===============================================\n"
     ]
    },
    {
     "data": {
      "text/plain": [
       "[('music', 5)]"
      ]
     },
     "execution_count": 16,
     "metadata": {},
     "output_type": "execute_result"
    }
   ],
   "source": [
    "predict(query=\"tune your groove\",mappings=mappings)"
   ]
  },
  {
   "cell_type": "code",
   "execution_count": 17,
   "metadata": {},
   "outputs": [
    {
     "name": "stdout",
     "output_type": "stream",
     "text": [
      "===============================================\n",
      "                                                                                                                                                                                                                                                                                                                                                                                                                                                                                                                                                                                                                                                                                                                                                                                                                                                                                                                                                                                                                      cleaned_text  \\\n",
      "4177                                                                                                                                                                                                                                                                                                                                                                                                                                                                                                                                                                                                                                                                                                                                                                                                                                                                                                                                                                                                                           NaN   \n",
      "4177                                                                                                                                                                                                                                                                                                                                                                                                                                                                                                                                                                                                                                                                                                                                                                                                                                                                                                                                                                                                                           NaN   \n",
      "5069  Blah.  I wanted to like this pail so much.  We are exclusive GroVia diaper users and I had to have this pail, the concept was perfect for our needs.  However, the plastic boning wore a hole in the material and fell out after about 2-3 months.  Customer service was awesome.  They acknowledged there was an issue with some pails and sent a new one right away and I returned the old one.  Unfortunately the same thing happened with the replacement.  This time they offered to send another or give me store credit.  I took the store credit and they let me keep the pail.  I've only had the second one a few months and along with the fraying hole from the plastic boning, the zipper is a really inferior quality for something I use so regularly.  I really liked the concept, but the quality is severely lacking compared to their diapers.  A high quality zipper and a fix for that plastic boning issue and I'd buy another one.  Until then, I'm sticking with the Planet Wise hanging diaper bag.   \n",
      "5069  Blah.  I wanted to like this pail so much.  We are exclusive GroVia diaper users and I had to have this pail, the concept was perfect for our needs.  However, the plastic boning wore a hole in the material and fell out after about 2-3 months.  Customer service was awesome.  They acknowledged there was an issue with some pails and sent a new one right away and I returned the old one.  Unfortunately the same thing happened with the replacement.  This time they offered to send another or give me store credit.  I took the store credit and they let me keep the pail.  I've only had the second one a few months and along with the fraying hole from the plastic boning, the zipper is a really inferior quality for something I use so regularly.  I really liked the concept, but the quality is severely lacking compared to their diapers.  A high quality zipper and a fix for that plastic boning issue and I'd buy another one.  Until then, I'm sticking with the Planet Wise hanging diaper bag.   \n",
      "766                                                                                                                                                                                                                                                                                                                                                                                                                                                                                                                                                                                                                                                                                                                                                                                                                                                                                                                                                                                                              Just plastic crap   \n",
      "\n",
      "     category     score  \n",
      "4177    music  1.519575  \n",
      "4177    music  1.519575  \n",
      "5069     baby  1.578009  \n",
      "5069     baby  1.578009  \n",
      "766    beauty  1.581359  \n",
      "===============================================\n"
     ]
    },
    {
     "data": {
      "text/plain": [
       "[('music', 2), ('baby', 2)]"
      ]
     },
     "execution_count": 17,
     "metadata": {},
     "output_type": "execute_result"
    }
   ],
   "source": [
    "predict(query=\"quinoa\",mappings=mappings)"
   ]
  },
  {
   "cell_type": "markdown",
   "metadata": {},
   "source": [
    "## Predict function for test data"
   ]
  },
  {
   "cell_type": "code",
   "execution_count": 18,
   "metadata": {},
   "outputs": [],
   "source": [
    "def most_frequent_test(result):\n",
    "    top2 = Counter(result)\n",
    "    return top2.most_common(1)\n",
    "\n",
    "\n",
    "def test_predict(query,mappings=mappings):\n",
    "    cleaned_query= clean(query)\n",
    "    query_embedding=predict_embeddings(cleaned_query)\n",
    "    faiss.normalize_L2(query_embedding)\n",
    "    D, I = index.search(query_embedding, 5) # d is the distance and I is the index number \n",
    "    return most_frequent([mappings[id_] for id_ in I[0]])[0][0]\n",
    "\n",
    "\n",
    "test[\"predict\"]=test[\"reviewText\"].apply(lambda x:test_predict(x))"
   ]
  },
  {
   "cell_type": "code",
   "execution_count": 24,
   "metadata": {},
   "outputs": [
    {
     "name": "stdout",
     "output_type": "stream",
     "text": [
      "music 0.015559911727905273\n"
     ]
    }
   ],
   "source": [
    "start=time.time()\n",
    "print(test_predict(\"quinoa\",mappings),time.time()-start)"
   ]
  },
  {
   "cell_type": "markdown",
   "metadata": {},
   "source": [
    "## Classification Report for test file"
   ]
  },
  {
   "cell_type": "code",
   "execution_count": 25,
   "metadata": {},
   "outputs": [
    {
     "name": "stdout",
     "output_type": "stream",
     "text": [
      "              precision    recall  f1-score   support\n",
      "\n",
      "        baby       0.88      0.91      0.89       180\n",
      "      beauty       0.91      0.93      0.92       240\n",
      "     grocery       0.98      0.97      0.97       300\n",
      "       music       0.98      0.96      0.97       600\n",
      "\n",
      "    accuracy                           0.95      1320\n",
      "   macro avg       0.94      0.94      0.94      1320\n",
      "weighted avg       0.95      0.95      0.95      1320\n",
      "\n"
     ]
    }
   ],
   "source": [
    "print(classification_report(test['category'],test[\"predict\"]))\n",
    "cm = confusion_matrix(test['category'],test[\"predict\"])"
   ]
  },
  {
   "cell_type": "code",
   "execution_count": 26,
   "metadata": {},
   "outputs": [
    {
     "data": {
      "image/png": "[encoded data removed]",
      "text/plain": [
       "<Figure size 640x480 with 2 Axes>"
      ]
     },
     "metadata": {},
     "output_type": "display_data"
    }
   ],
   "source": [
    "labels = ['baby','beauty','grocery','music']\n",
    "sns.heatmap(cm, fmt='d', annot=True, square=True,\n",
    "            cmap='gray_r', vmin=0, vmax=0,  # set all to white\n",
    "            linewidths=0.5, linecolor='w',  # draw black grid lines\n",
    "            xticklabels=labels,yticklabels=labels)                     # disable colorbar\n",
    "\n",
    "# re-enable outer spines\n",
    "sns.despine(left=False, right=False, top=False, bottom=False)"
   ]
  },
  {
   "cell_type": "code",
   "execution_count": 27,
   "metadata": {},
   "outputs": [
    {
     "name": "stdout",
     "output_type": "stream",
     "text": [
      "Test Accuracy Score 0.9507575757575758\n"
     ]
    }
   ],
   "source": [
    "acc_score = accuracy_score(test['category'],test[\"predict\"])\n",
    "print(\"Test Accuracy Score\",acc_score)"
   ]
  },
  {
   "cell_type": "markdown",
   "metadata": {},
   "source": [
    "#conclusion - IVF Index results are bit not accurate like flat index but this is slightly faster compared to flat index"
   ]
  }
 ],
 "metadata": {
  "kernelspec": {
   "display_name": "sem_env",
   "name": "sem_env"
  },
  "language_info": {
   "codemirror_mode": {
    "name": "ipython",
    "version": 3
   },
   "file_extension": ".py",
   "mimetype": "text/x-python",
   "name": "python",
   "nbconvert_exporter": "python",
   "pygments_lexer": "ipython3",
   "version": "3.8.13"
  },
  "orig_nbformat": 4
 },
 "nbformat": 4,
 "nbformat_minor": 2
}