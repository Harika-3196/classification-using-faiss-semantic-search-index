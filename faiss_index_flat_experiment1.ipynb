{
 "cells": [
  {
   "cell_type": "markdown",
   "metadata": {},
   "source": [
    "## Load Library"
   ]
  },
  {
   "cell_type": "code",
   "execution_count": 1,
   "metadata": {},
   "outputs": [
    {
     "name": "stderr",
     "output_type": "stream",
     "text": [
      "/Users/h0s060n/Documents/anaconda3/envs/sem_env/lib/python3.8/site-packages/tqdm/auto.py:22: TqdmWarning: IProgress not found. Please update jupyter and ipywidgets. See https://ipywidgets.readthedocs.io/en/stable/user_install.html\n",
      "  from .autonotebook import tqdm as notebook_tqdm\n"
     ]
    }
   ],
   "source": [
    "import os\n",
    "import re\n",
    "import time\n",
    "import gzip\n",
    "import faiss\n",
    "import string\n",
    "import pickle\n",
    "import numpy as np\n",
    "import pandas as pd\n",
    "import seaborn as sns\n",
    "\n",
    "from typing import List\n",
    "from collections import Counter\n",
    "from nltk.corpus import stopwords\n",
    "from sklearn.metrics import accuracy_score\n",
    "from nltk.tokenize import word_tokenize as tokenize\n",
    "from sklearn.model_selection import train_test_split\n",
    "from sentence_transformers import SentenceTransformer\n",
    "from sklearn.metrics import classification_report,confusion_matrix\n",
    "\n",
    "pd.set_option('display.max_rows', None)\n",
    "pd.set_option('display.max_columns', None)\n",
    "pd.set_option('display.max_colwidth', None)"
   ]
  },
  {
   "cell_type": "markdown",
   "metadata": {},
   "source": [
    "## Load Data"
   ]
  },
  {
   "cell_type": "code",
   "execution_count": 2,
   "metadata": {},
   "outputs": [],
   "source": [
    "# STEP 1 - DOWNLOAD DATA FROM ( http://jmcauley.ucsd.edu/data/amazon/ )\n",
    "# For this semantic search classification we have taken 4 categories\n",
    "\n",
    "def parse(path):\n",
    "  g = gzip.open(path, 'rb')\n",
    "  for l in g:\n",
    "    yield eval(l)\n",
    "\n",
    "def getDF(path):\n",
    "  i = 0\n",
    "  df = {}\n",
    "  for d in parse(path):\n",
    "    df[i] = d\n",
    "    i += 1\n",
    "  return pd.DataFrame.from_dict(df, orient='index')\n",
    "\n",
    "cat1_baby = getDF('./data/reviews_Baby_5.json.gz')\n",
    "cat2_beauty = getDF('./data/reviews_Beauty_5.json.gz')\n",
    "cat3_grocery=getDF('./data/reviews_Grocery_and_Gourmet_Food_5.json.gz')\n",
    "cat4_music=getDF('./data/reviews_Musical_Instruments_5.json.gz')\n",
    "\n",
    "# create category column for each file (dataframe)\n",
    "cat1_baby[\"category\"]=\"baby\"\n",
    "cat2_beauty[\"category\"]=\"beauty\"\n",
    "cat3_grocery[\"category\"]=\"grocery\"\n",
    "cat4_music[\"category\"]=\"music\""
   ]
  },
  {
   "cell_type": "code",
   "execution_count": 4,
   "metadata": {},
   "outputs": [
    {
     "data": {
      "text/html": [
       "<div>\n",
       "<style scoped>\n",
       "    .dataframe tbody tr th:only-of-type {\n",
       "        vertical-align: middle;\n",
       "    }\n",
       "\n",
       "    .dataframe tbody tr th {\n",
       "        vertical-align: top;\n",
       "    }\n",
       "\n",
       "    .dataframe thead th {\n",
       "        text-align: right;\n",
       "    }\n",
       "</style>\n",
       "<table border=\"1\" class=\"dataframe\">\n",
       "  <thead>\n",
       "    <tr style=\"text-align: right;\">\n",
       "      <th></th>\n",
       "      <th>reviewerID</th>\n",
       "      <th>asin</th>\n",
       "      <th>reviewerName</th>\n",
       "      <th>helpful</th>\n",
       "      <th>reviewText</th>\n",
       "      <th>overall</th>\n",
       "      <th>summary</th>\n",
       "      <th>unixReviewTime</th>\n",
       "      <th>reviewTime</th>\n",
       "      <th>category</th>\n",
       "    </tr>\n",
       "  </thead>\n",
       "  <tbody>\n",
       "    <tr>\n",
       "      <th>0</th>\n",
       "      <td>A1HK2FQW6KXQB2</td>\n",
       "      <td>097293751X</td>\n",
       "      <td>Amanda Johnsen \"Amanda E. Johnsen\"</td>\n",
       "      <td>[0, 0]</td>\n",
       "      <td>Perfect for new parents. We were able to keep ...</td>\n",
       "      <td>5.0</td>\n",
       "      <td>Awesine</td>\n",
       "      <td>1373932800</td>\n",
       "      <td>07 16, 2013</td>\n",
       "      <td>baby</td>\n",
       "    </tr>\n",
       "    <tr>\n",
       "      <th>1</th>\n",
       "      <td>A19K65VY14D13R</td>\n",
       "      <td>097293751X</td>\n",
       "      <td>angela</td>\n",
       "      <td>[0, 0]</td>\n",
       "      <td>This book is such a life saver.  It has been s...</td>\n",
       "      <td>5.0</td>\n",
       "      <td>Should be required for all new parents!</td>\n",
       "      <td>1372464000</td>\n",
       "      <td>06 29, 2013</td>\n",
       "      <td>baby</td>\n",
       "    </tr>\n",
       "  </tbody>\n",
       "</table>\n",
       "</div>"
      ],
      "text/plain": [
       "       reviewerID        asin                        reviewerName helpful  \\\n",
       "0  A1HK2FQW6KXQB2  097293751X  Amanda Johnsen \"Amanda E. Johnsen\"  [0, 0]   \n",
       "1  A19K65VY14D13R  097293751X                              angela  [0, 0]   \n",
       "\n",
       "                                          reviewText  overall  \\\n",
       "0  Perfect for new parents. We were able to keep ...      5.0   \n",
       "1  This book is such a life saver.  It has been s...      5.0   \n",
       "\n",
       "                                   summary  unixReviewTime   reviewTime  \\\n",
       "0                                  Awesine      1373932800  07 16, 2013   \n",
       "1  Should be required for all new parents!      1372464000  06 29, 2013   \n",
       "\n",
       "  category  \n",
       "0     baby  \n",
       "1     baby  "
      ]
     },
     "execution_count": 4,
     "metadata": {},
     "output_type": "execute_result"
    }
   ],
   "source": [
    "cat1_baby.head(2)"
   ]
  },
  {
   "cell_type": "markdown",
   "metadata": {},
   "source": [
    "## Take Uneven Samples"
   ]
  },
  {
   "cell_type": "code",
   "execution_count": 4,
   "metadata": {},
   "outputs": [],
   "source": [
    "## randomly take few samples from each dataframe and just to test mis-imblanced scenario we have taken uneven numbers\n",
    "cat1_baby=cat1_baby[[\"reviewText\",\"category\"]].sample(900)\n",
    "cat2_beauty=cat2_beauty[[\"reviewText\",\"category\"]].sample(1200)\n",
    "cat3_grocery=cat3_grocery[[\"reviewText\",\"category\"]].sample(1500)\n",
    "cat4_music=cat4_music[[\"reviewText\",\"category\"]].sample(3000)\n",
    "df = pd.concat([cat1_baby,cat2_beauty,cat3_grocery,cat4_music],axis=0).reset_index()[[\"reviewText\",\"category\"]]"
   ]
  },
  {
   "cell_type": "code",
   "execution_count": 106,
   "metadata": {},
   "outputs": [
    {
     "name": "stdout",
     "output_type": "stream",
     "text": [
      "Total Data 6600\n"
     ]
    }
   ],
   "source": [
    "print(\"Total Data\",len(df))"
   ]
  },
  {
   "cell_type": "code",
   "execution_count": 6,
   "metadata": {},
   "outputs": [
    {
     "data": {
      "text/html": [
       "<div>\n",
       "<style scoped>\n",
       "    .dataframe tbody tr th:only-of-type {\n",
       "        vertical-align: middle;\n",
       "    }\n",
       "\n",
       "    .dataframe tbody tr th {\n",
       "        vertical-align: top;\n",
       "    }\n",
       "\n",
       "    .dataframe thead th {\n",
       "        text-align: right;\n",
       "    }\n",
       "</style>\n",
       "<table border=\"1\" class=\"dataframe\">\n",
       "  <thead>\n",
       "    <tr style=\"text-align: right;\">\n",
       "      <th></th>\n",
       "      <th>reviewText</th>\n",
       "      <th>category</th>\n",
       "    </tr>\n",
       "  </thead>\n",
       "  <tbody>\n",
       "    <tr>\n",
       "      <th>0</th>\n",
       "      <td>I've been using this on a newborn, so it's bul...</td>\n",
       "      <td>baby</td>\n",
       "    </tr>\n",
       "    <tr>\n",
       "      <th>1</th>\n",
       "      <td>This changing pad cover works great on the Esp...</td>\n",
       "      <td>baby</td>\n",
       "    </tr>\n",
       "  </tbody>\n",
       "</table>\n",
       "</div>"
      ],
      "text/plain": [
       "                                          reviewText category\n",
       "0  I've been using this on a newborn, so it's bul...     baby\n",
       "1  This changing pad cover works great on the Esp...     baby"
      ]
     },
     "execution_count": 6,
     "metadata": {},
     "output_type": "execute_result"
    }
   ],
   "source": [
    "df.head(2)"
   ]
  },
  {
   "cell_type": "markdown",
   "metadata": {},
   "source": [
    "## Clean the dataframe "
   ]
  },
  {
   "cell_type": "code",
   "execution_count": 7,
   "metadata": {},
   "outputs": [
    {
     "data": {
      "text/plain": [
       "'good day'"
      ]
     },
     "execution_count": 7,
     "metadata": {},
     "output_type": "execute_result"
    }
   ],
   "source": [
    "stop_words=stopwords.words('english')\n",
    "def clean(text):\n",
    "    text=text.lower()\n",
    "    url_removed=re.sub(r'https\\S+','',text,flags=re.MULTILINE)\n",
    "    text=re.sub(\"[^a-zA-Z]\",\" \",url_removed)\n",
    "    text=re.sub(\"\\.+\",\" \",text)\n",
    "    word_tokens=tokenize(text)\n",
    "    text=[word for word in word_tokens if word  not in stop_words]\n",
    "    text=[word for word in text if word not in string.punctuation]\n",
    "    return \" \".join(text)\n",
    "\n",
    "# df[\"cleaned_review_data\"]=df[\"reviewText\"].apply(lambda x:clean(x))\n",
    "# df[\"category\"].dropna(inplace=True)\n",
    "# df.drop_duplicates(inplace=True)\n",
    "\n",
    "clean(\"This is  good day . ! ! , I IS  #\")"
   ]
  },
  {
   "cell_type": "code",
   "execution_count": 12,
   "metadata": {},
   "outputs": [
    {
     "data": {
      "text/plain": [
       "6599"
      ]
     },
     "execution_count": 12,
     "metadata": {},
     "output_type": "execute_result"
    }
   ],
   "source": [
    "len(df)"
   ]
  },
  {
   "cell_type": "markdown",
   "metadata": {},
   "source": [
    "## Split the Dataframe to train test split"
   ]
  },
  {
   "cell_type": "code",
   "execution_count": 13,
   "metadata": {},
   "outputs": [],
   "source": [
    "train,test= train_test_split(df,stratify=df[[\"category\"]],test_size=0.2)\n",
    "train.reset_index(drop=True,inplace=True)\n",
    "test.reset_index(drop=True,inplace=True)"
   ]
  },
  {
   "cell_type": "code",
   "execution_count": 15,
   "metadata": {},
   "outputs": [
    {
     "data": {
      "text/plain": [
       "music      2399\n",
       "grocery    1200\n",
       "beauty      960\n",
       "baby        720\n",
       "Name: category, dtype: int64"
      ]
     },
     "execution_count": 15,
     "metadata": {},
     "output_type": "execute_result"
    }
   ],
   "source": [
    "train['category'].value_counts()"
   ]
  },
  {
   "cell_type": "code",
   "execution_count": 16,
   "metadata": {},
   "outputs": [
    {
     "data": {
      "text/html": [
       "<div>\n",
       "<style scoped>\n",
       "    .dataframe tbody tr th:only-of-type {\n",
       "        vertical-align: middle;\n",
       "    }\n",
       "\n",
       "    .dataframe tbody tr th {\n",
       "        vertical-align: top;\n",
       "    }\n",
       "\n",
       "    .dataframe thead th {\n",
       "        text-align: right;\n",
       "    }\n",
       "</style>\n",
       "<table border=\"1\" class=\"dataframe\">\n",
       "  <thead>\n",
       "    <tr style=\"text-align: right;\">\n",
       "      <th></th>\n",
       "      <th>reviewText</th>\n",
       "      <th>category</th>\n",
       "      <th>cleaned_review_data</th>\n",
       "    </tr>\n",
       "  </thead>\n",
       "  <tbody>\n",
       "    <tr>\n",
       "      <th>0</th>\n",
       "      <td>Very pleased with the product, holds better th...</td>\n",
       "      <td>beauty</td>\n",
       "      <td>pleased product holds better size larger expec...</td>\n",
       "    </tr>\n",
       "    <tr>\n",
       "      <th>1</th>\n",
       "      <td>It's comfortable. It's adjustable. The color w...</td>\n",
       "      <td>music</td>\n",
       "      <td>comfortable adjustable color good match guitar...</td>\n",
       "    </tr>\n",
       "    <tr>\n",
       "      <th>2</th>\n",
       "      <td>It seems to leave your skin softer than anythi...</td>\n",
       "      <td>beauty</td>\n",
       "      <td>seems leave skin softer anything else used pur...</td>\n",
       "    </tr>\n",
       "    <tr>\n",
       "      <th>3</th>\n",
       "      <td>Quinoa is All Protein it is Very Health Benefi...</td>\n",
       "      <td>grocery</td>\n",
       "      <td>quinoa protein health beneficial take time loo...</td>\n",
       "    </tr>\n",
       "    <tr>\n",
       "      <th>4</th>\n",
       "      <td>The only real reason that I didn't give it 5 s...</td>\n",
       "      <td>baby</td>\n",
       "      <td>real reason give stars sure forks stage yet su...</td>\n",
       "    </tr>\n",
       "    <tr>\n",
       "      <th>...</th>\n",
       "      <td>...</td>\n",
       "      <td>...</td>\n",
       "      <td>...</td>\n",
       "    </tr>\n",
       "    <tr>\n",
       "      <th>5274</th>\n",
       "      <td>This chocolate was a bit less sweet, more bitt...</td>\n",
       "      <td>grocery</td>\n",
       "      <td>chocolate bit less sweet bitter harder usually...</td>\n",
       "    </tr>\n",
       "    <tr>\n",
       "      <th>5275</th>\n",
       "      <td>I ended up ordering this cable to connect my b...</td>\n",
       "      <td>music</td>\n",
       "      <td>ended ordering cable connect bottom row effect...</td>\n",
       "    </tr>\n",
       "    <tr>\n",
       "      <th>5276</th>\n",
       "      <td>For most of my life, my hair was bone straight...</td>\n",
       "      <td>beauty</td>\n",
       "      <td>life hair bone straight result know care strai...</td>\n",
       "    </tr>\n",
       "    <tr>\n",
       "      <th>5277</th>\n",
       "      <td>I bought this set mainly because I wanted a ch...</td>\n",
       "      <td>music</td>\n",
       "      <td>bought set mainly wanted cheap micro fiber clo...</td>\n",
       "    </tr>\n",
       "    <tr>\n",
       "      <th>5278</th>\n",
       "      <td>This is a nice small amp.  It delivers nice, p...</td>\n",
       "      <td>music</td>\n",
       "      <td>nice small amp delivers nice pure sound loud e...</td>\n",
       "    </tr>\n",
       "  </tbody>\n",
       "</table>\n",
       "<p>5279 rows × 3 columns</p>\n",
       "</div>"
      ],
      "text/plain": [
       "                                             reviewText category  \\\n",
       "0     Very pleased with the product, holds better th...   beauty   \n",
       "1     It's comfortable. It's adjustable. The color w...    music   \n",
       "2     It seems to leave your skin softer than anythi...   beauty   \n",
       "3     Quinoa is All Protein it is Very Health Benefi...  grocery   \n",
       "4     The only real reason that I didn't give it 5 s...     baby   \n",
       "...                                                 ...      ...   \n",
       "5274  This chocolate was a bit less sweet, more bitt...  grocery   \n",
       "5275  I ended up ordering this cable to connect my b...    music   \n",
       "5276  For most of my life, my hair was bone straight...   beauty   \n",
       "5277  I bought this set mainly because I wanted a ch...    music   \n",
       "5278  This is a nice small amp.  It delivers nice, p...    music   \n",
       "\n",
       "                                    cleaned_review_data  \n",
       "0     pleased product holds better size larger expec...  \n",
       "1     comfortable adjustable color good match guitar...  \n",
       "2     seems leave skin softer anything else used pur...  \n",
       "3     quinoa protein health beneficial take time loo...  \n",
       "4     real reason give stars sure forks stage yet su...  \n",
       "...                                                 ...  \n",
       "5274  chocolate bit less sweet bitter harder usually...  \n",
       "5275  ended ordering cable connect bottom row effect...  \n",
       "5276  life hair bone straight result know care strai...  \n",
       "5277  bought set mainly wanted cheap micro fiber clo...  \n",
       "5278  nice small amp delivers nice pure sound loud e...  \n",
       "\n",
       "[5279 rows x 3 columns]"
      ]
     },
     "execution_count": 16,
     "metadata": {},
     "output_type": "execute_result"
    }
   ],
   "source": [
    "train"
   ]
  },
  {
   "cell_type": "markdown",
   "metadata": {},
   "source": [
    "# save the train and test to csv file for future use"
   ]
  },
  {
   "cell_type": "code",
   "execution_count": 17,
   "metadata": {},
   "outputs": [],
   "source": [
    "train.to_csv(\"train_data.csv\",index=False)\n",
    "test.to_csv(\"test_data.csv\",index=False)"
   ]
  },
  {
   "cell_type": "markdown",
   "metadata": {},
   "source": [
    "## Create Embeddings for train and create mappings"
   ]
  },
  {
   "cell_type": "code",
   "execution_count": 10,
   "metadata": {},
   "outputs": [],
   "source": [
    "model=SentenceTransformer('sentence-transformers/all-MiniLM-L6-v2')\n",
    "train_cleaned_texts = train[\"cleaned_review_data\"].tolist()\n",
    "train_cleaned_texts = list(map(str, train_cleaned_texts))\n",
    "\n",
    "\n",
    "def get_embeddings(model, sentences: List[str], parallel: bool = True):\n",
    "    start = time.time()\n",
    "    if parallel:\n",
    "        # Start the multi-process pool on all cores\n",
    "        os.environ[\"TOKENIZERS_PARALLELISM\"] = \"false\"\n",
    "        pool = model.start_multi_process_pool(target_devices=[\"cpu\"] * 5)\n",
    "        embeddings = model.encode_multi_process(sentences, pool, batch_size=16)\n",
    "        model.stop_multi_process_pool(pool)\n",
    "    else:\n",
    "        os.environ[\"TOKENIZERS_PARALLELISM\"] = \"true\"\n",
    "        embeddings = model.encode(\n",
    "            sentences,\n",
    "            batch_size=32,\n",
    "            show_progress_bar=True,\n",
    "            convert_to_tensor=True,\n",
    "        )\n",
    "    print(f\"Time taken to encode {len(sentences)} items: {round(time.time() - start, 2)}\")\n",
    "    return embeddings.detach().numpy()\n",
    "\n",
    "train_embeddings = get_embeddings(model=model, sentences=train_cleaned_texts, parallel=False)\n",
    "print(train_embeddings.shape)\n",
    "\n",
    "#save embeddings of idea texts\n",
    "cleaned_train_texts_embeddings_file = f\"./data/train_embeddings_all_minilm_l6_v2.pkl\"\n",
    "pickle.dump(train_embeddings, open(cleaned_train_texts_embeddings_file, \"wb\"))\n",
    "\n",
    "\n",
    "#create mappings for index and category this will be later used for faiss\n",
    "train_category_index_mapping=dict(zip(train.index,train.category))\n",
    "with open('./data/train_category_index.pickle', 'wb') as handle:\n",
    "    pickle.dump(train_category_index_mapping, handle, protocol=pickle.HIGHEST_PROTOCOL)"
   ]
  },
  {
   "cell_type": "markdown",
   "metadata": {},
   "source": [
    "## Create Index "
   ]
  },
  {
   "cell_type": "code",
   "execution_count": 4,
   "metadata": {},
   "outputs": [],
   "source": [
    "#load the mappings file which is used for printing category as output\n",
    "def get_mappings(file_name):\n",
    "    with open(file_name, 'rb') as handle:\n",
    "        category_mapping_dict = pickle.load(handle)\n",
    "    return category_mapping_dict\n",
    "\n",
    "#read the embeddings created at earlier step\n",
    "def read_embeddings(file_name):\n",
    "    cleaned_texts_embeddings_file = file_name\n",
    "    if os.path.exists(cleaned_texts_embeddings_file):\n",
    "        with open(cleaned_texts_embeddings_file, \"rb\") as f:\n",
    "            embeddings = pickle.load(f)\n",
    "    temp1=np.asarray(embeddings,dtype=\"float32\")\n",
    "    return temp1\n",
    "\n",
    "#save the index once its created\n",
    "def save_index(index):\n",
    "    path = os.path.join(\"./data/\",\"review_category_train_index\")\n",
    "    faiss.write_index(index, path)\n",
    "\n",
    "# we have used flat Index and with Inner product\n",
    "def create_index(mappings,samples):\n",
    "    index = faiss.IndexIDMap(faiss.IndexFlatIP(samples.shape[1]))\n",
    "    faiss.normalize_L2(samples)  # normalise the embedding\n",
    "    #index.train(samples)\n",
    "    index.add_with_ids(samples,np.array(list(mappings.keys())))\n",
    "    save_index(index)\n",
    "    return"
   ]
  },
  {
   "cell_type": "markdown",
   "metadata": {},
   "source": [
    "## call the above functions"
   ]
  },
  {
   "cell_type": "code",
   "execution_count": 5,
   "metadata": {},
   "outputs": [],
   "source": [
    "mappings = get_mappings(file_name='./data/train_category_index.pickle')\n",
    "samples = read_embeddings(file_name=f\"./data/train_embeddings_all_minilm_l6_v2.pkl\")\n",
    "create_index(mappings=mappings,samples=samples)"
   ]
  },
  {
   "cell_type": "code",
   "execution_count": 8,
   "metadata": {},
   "outputs": [],
   "source": [
    "# print top 2 categories among top5 nearest neighbours returned from index search\n",
    "train=pd.read_csv(\"./data/train_data.csv\") # using the file from previous notebook created step\n",
    "test=pd.read_csv(\"./data/test_data.csv\")\n",
    "def most_frequent(result):\n",
    "    top2 = Counter(result)\n",
    "    return top2.most_common(2)\n",
    "\n",
    "\n",
    "#read the index\n",
    "index = faiss.read_index(\"./data/review_category_train_index\")\n",
    "\n",
    "# embeddings for query\n",
    "def predict_embeddings(query):\n",
    "    query_embedding=model.encode(query)\n",
    "    query_embedding=np.asarray([query_embedding],dtype=\"float32\")\n",
    "    return query_embedding\n",
    "    \n",
    "\n",
    "#predict for given query\n",
    "def predict(query,mappings):\n",
    "    cleaned_query= clean(query)\n",
    "    query_embedding=predict_embeddings(cleaned_query)\n",
    "    faiss.normalize_L2(query_embedding)\n",
    "    D, I = index.search(query_embedding, 5) # d is the distance and I is the index number \n",
    "    for values in I:\n",
    "        for distance in D:\n",
    "            details= {'cleaned_text':train.iloc[values][\"reviewText\"],\n",
    "            'category':train.iloc[values][\"category\"],\n",
    "            'score':distance\n",
    "            }\n",
    "            print(\"===============================================\")\n",
    "            print(pd.DataFrame(details))\n",
    "            print(\"===============================================\")\n",
    "    return most_frequent([mappings[id_] for id_ in I[0]])\n"
   ]
  },
  {
   "cell_type": "code",
   "execution_count": 11,
   "metadata": {},
   "outputs": [
    {
     "name": "stdout",
     "output_type": "stream",
     "text": [
      "===============================================\n",
      "                                                                                                                                                                                                                               cleaned_text  \\\n",
      "2337                                                          Excellent little device for the money.  Easy to use.  I have paid double for tuners that have not worked as well.  This will get you in tune for $11 or less - can't beat it.   \n",
      "3545                                            I bought this tuner because I am learning to play guitar and want to keep my guitar in tuneGreat little tuner that looks good and works even better It works really well, but not perfectly   \n",
      "2504  This little tuner is so easy to use and see...I bought two more as presents. The price point was just unbeatable for such a stellar performing tuner. If you don't have a tuner or are looking for a new one, you NEED this one. A+++   \n",
      "2511                                                                                         This is a very versatile tuner!  I use it all the time to check my instruments, and keep things sounding good.  Highly recommend this product.   \n",
      "2950                                                                                                                     this tuner is awsome,it tunes very acurately and i would recommend it to any guitarist or who ever needs a tunner.   \n",
      "\n",
      "     category     score  \n",
      "2337    music  0.562374  \n",
      "3545    music  0.533012  \n",
      "2504    music  0.523020  \n",
      "2511    music  0.514312  \n",
      "2950    music  0.510263  \n",
      "===============================================\n"
     ]
    },
    {
     "data": {
      "text/plain": [
       "[('music', 5)]"
      ]
     },
     "execution_count": 11,
     "metadata": {},
     "output_type": "execute_result"
    }
   ],
   "source": [
    "predict(query=\"tune your groove\",mappings=mappings)"
   ]
  },
  {
   "cell_type": "code",
   "execution_count": 12,
   "metadata": {},
   "outputs": [
    {
     "name": "stdout",
     "output_type": "stream",
     "text": [
      "===============================================\n",
      "                                                                                                                                                                                                                                                                                                                                                                                                                                                                                                                                                                                                                                                                                                                                                                                                                                     cleaned_text  \\\n",
      "247                                                                                                                                                                                                                                                                                                                                                                                                                                                                                                                                                                                                                                                                  What I really love about this Quinoa is that I have yet to bite into the granular sand like pieces that I inevitably find in the quinoa that I get at the health food store.   \n",
      "4223                                                                                                                                                                                                                                                                                                                                                                                                                                                                                                     Unlike earlier reviewers, I received the correct product -- and what a great product it is.  Quinoa flour is the best weapon in the gluten-free baker's arsenal, and I have been extremely pleased with the quality of this particular product.  It is evenly milled and seems quite fresh.  Amazon's price is the best I've found, too.   \n",
      "630   Quinoa is expensive in the grocery store. I like it, but the cost is around $6+ per pound. The Nature's Earthly Choice was $4 per pound ($15.99 per 4lbs bag) and the quality is quite good. Nutritious, tasty, and easy to make, this is a great substitute for rice. Quinoa can be served in salads, as a side dish, and even as a main course. I have tried several new ideas out and all have been well received. Quinoa is a very flexible ingredient to work with. I recommend giving it a try. Other merchants are selling Quinoa in 10lbs bags that cannot be resealed. While the prices can be attractive, those big bags are very cumbersome to work with, especially after they are opened. These 4lbs resealable bags are a great size to work with.BTW - If the product was around $3 per pound, I would have given it 5 stars   \n",
      "263                                                                                                                                                                                                                                                                                                                                                                                                                               dont get swayed by the other reviews...about grittiness...or other charachteristics.  i've tried a bunch of different brands and they all have pretty much the same characteristics and quality.  this one is great.  i wish amazon would stock some and lower the price a bit...id buy it more.  as for now...until they get a better price again, wholefoods still has the lowest cost organic quinoa. $4.lb.   \n",
      "3                                                                                                                                                                                                                                                                                                                                                  Quinoa is All Protein it is Very Health Beneficial. Take the time and Look up the Health Benefits in your search  bar. And you can make lots of recipes with quinoa. We Love Quinoa and Kale Patties. Please buy this Product it is Very Delicious and once you try it you will love it. And the more you eat the more you will love it. And cut back on red meat. It clogs your heart. Become a Vegan. There are lots of other ways to get Protein Tell all your friends to buy this Product.   \n",
      "\n",
      "     category     score  \n",
      "247   grocery  0.663252  \n",
      "4223  grocery  0.459989  \n",
      "630   grocery  0.440489  \n",
      "263   grocery  0.394109  \n",
      "3     grocery  0.298330  \n",
      "===============================================\n"
     ]
    },
    {
     "data": {
      "text/plain": [
       "[('grocery', 5)]"
      ]
     },
     "execution_count": 12,
     "metadata": {},
     "output_type": "execute_result"
    }
   ],
   "source": [
    "predict(query=\"quinoa\",mappings=mappings)"
   ]
  },
  {
   "cell_type": "markdown",
   "metadata": {},
   "source": [
    "## Predict function for test data"
   ]
  },
  {
   "cell_type": "code",
   "execution_count": 13,
   "metadata": {},
   "outputs": [],
   "source": [
    "def most_frequent_test(result):\n",
    "    top2 = Counter(result)\n",
    "    return top2.most_common(1)\n",
    "\n",
    "\n",
    "def test_predict(query,mappings=mappings):\n",
    "    cleaned_query= clean(query)\n",
    "    query_embedding=predict_embeddings(cleaned_query)\n",
    "    faiss.normalize_L2(query_embedding)\n",
    "    D, I = index.search(query_embedding, 5) # d is the distance and I is the index number \n",
    "    return most_frequent([mappings[id_] for id_ in I[0]])[0][0]\n",
    "\n",
    "\n",
    "test[\"predict\"]=test[\"reviewText\"].apply(lambda x:test_predict(x))"
   ]
  },
  {
   "cell_type": "code",
   "execution_count": 15,
   "metadata": {},
   "outputs": [
    {
     "name": "stdout",
     "output_type": "stream",
     "text": [
      "grocery 0.020138025283813477\n"
     ]
    }
   ],
   "source": [
    "start=time.time()\n",
    "print(test_predict(\"quionoa\",mappings),time.time()-start)"
   ]
  },
  {
   "cell_type": "code",
   "execution_count": 94,
   "metadata": {},
   "outputs": [
    {
     "data": {
      "text/html": [
       "<div>\n",
       "<style scoped>\n",
       "    .dataframe tbody tr th:only-of-type {\n",
       "        vertical-align: middle;\n",
       "    }\n",
       "\n",
       "    .dataframe tbody tr th {\n",
       "        vertical-align: top;\n",
       "    }\n",
       "\n",
       "    .dataframe thead th {\n",
       "        text-align: right;\n",
       "    }\n",
       "</style>\n",
       "<table border=\"1\" class=\"dataframe\">\n",
       "  <thead>\n",
       "    <tr style=\"text-align: right;\">\n",
       "      <th></th>\n",
       "      <th>reviewText</th>\n",
       "      <th>category</th>\n",
       "      <th>cleaned_review_data</th>\n",
       "      <th>predict</th>\n",
       "    </tr>\n",
       "  </thead>\n",
       "  <tbody>\n",
       "    <tr>\n",
       "      <th>0</th>\n",
       "      <td>It's noisy, but if you find out how to equalize the tone and volume, it works fine. I bought it cause Gilmour uses this effect but certainly the one he uses must be of a much more better quality product.</td>\n",
       "      <td>music</td>\n",
       "      <td>noisy find equalize tone volume works fine bought cause gilmour uses effect certainly one uses must much better quality product</td>\n",
       "      <td>music</td>\n",
       "    </tr>\n",
       "    <tr>\n",
       "      <th>1</th>\n",
       "      <td>With some trials using different tubes this pedal can add something that is very tough to get otherwise. I run my guitar direct because I don't like amps or having to cart the things around. There are so many shades of tone available that it's tough to really praise this gadget enough especially considering the low cost. I also found using a compresser before it helps. I have a Pigtronix Philosopher's Tone &amp; it made a big differrence. I highly reccomend this tube pre-amp &amp; encourage trying out different tubes to get the sound you want.</td>\n",
       "      <td>music</td>\n",
       "      <td>trials using different tubes pedal add something tough get otherwise run guitar direct like amps cart things around many shades tone available tough really praise gadget enough especially considering low cost also found using compresser helps pigtronix philosopher tone made big differrence highly reccomend tube pre amp encourage trying different tubes get sound want</td>\n",
       "      <td>music</td>\n",
       "    </tr>\n",
       "  </tbody>\n",
       "</table>\n",
       "</div>"
      ],
      "text/plain": [
       "                                                                                                                                                                                                                                                                                                                                                                                                                                                                                                                                                      reviewText  \\\n",
       "0                                                                                                                                                                                                                                                                                                                                                    It's noisy, but if you find out how to equalize the tone and volume, it works fine. I bought it cause Gilmour uses this effect but certainly the one he uses must be of a much more better quality product.   \n",
       "1  With some trials using different tubes this pedal can add something that is very tough to get otherwise. I run my guitar direct because I don't like amps or having to cart the things around. There are so many shades of tone available that it's tough to really praise this gadget enough especially considering the low cost. I also found using a compresser before it helps. I have a Pigtronix Philosopher's Tone & it made a big differrence. I highly reccomend this tube pre-amp & encourage trying out different tubes to get the sound you want.   \n",
       "\n",
       "  category  \\\n",
       "0    music   \n",
       "1    music   \n",
       "\n",
       "                                                                                                                                                                                                                                                                                                                                                                cleaned_review_data  \\\n",
       "0                                                                                                                                                                                                                                                   noisy find equalize tone volume works fine bought cause gilmour uses effect certainly one uses must much better quality product   \n",
       "1  trials using different tubes pedal add something tough get otherwise run guitar direct like amps cart things around many shades tone available tough really praise gadget enough especially considering low cost also found using compresser helps pigtronix philosopher tone made big differrence highly reccomend tube pre amp encourage trying different tubes get sound want   \n",
       "\n",
       "  predict  \n",
       "0   music  \n",
       "1   music  "
      ]
     },
     "execution_count": 94,
     "metadata": {},
     "output_type": "execute_result"
    }
   ],
   "source": [
    "test.head(2)"
   ]
  },
  {
   "cell_type": "markdown",
   "metadata": {},
   "source": [
    "## Classification Report for test file"
   ]
  },
  {
   "cell_type": "code",
   "execution_count": 97,
   "metadata": {},
   "outputs": [
    {
     "name": "stdout",
     "output_type": "stream",
     "text": [
      "              precision    recall  f1-score   support\n",
      "\n",
      "        baby       0.95      0.91      0.93       180\n",
      "      beauty       0.92      0.95      0.94       240\n",
      "     grocery       0.99      0.98      0.98       300\n",
      "       music       0.97      0.98      0.97       600\n",
      "\n",
      "    accuracy                           0.96      1320\n",
      "   macro avg       0.96      0.95      0.96      1320\n",
      "weighted avg       0.96      0.96      0.96      1320\n",
      "\n"
     ]
    }
   ],
   "source": [
    "print(classification_report(test['category'],test[\"predict\"]))\n",
    "cm = confusion_matrix(test['category'],test[\"predict\"])"
   ]
  },
  {
   "cell_type": "code",
   "execution_count": 98,
   "metadata": {},
   "outputs": [
    {
     "data": {
      "image/png": "[encoded data removed]",
      "text/plain": [
       "<Figure size 640x480 with 2 Axes>"
      ]
     },
     "metadata": {},
     "output_type": "display_data"
    }
   ],
   "source": [
    "labels = ['baby','beauty','grocery','music']\n",
    "sns.heatmap(cm, fmt='d', annot=True, square=True,\n",
    "            cmap='gray_r', vmin=0, vmax=0,  # set all to white\n",
    "            linewidths=0.5, linecolor='w',  # draw black grid lines\n",
    "            xticklabels=labels,yticklabels=labels)                     # disable colorbar\n",
    "\n",
    "# re-enable outer spines\n",
    "sns.despine(left=False, right=False, top=False, bottom=False)"
   ]
  },
  {
   "cell_type": "code",
   "execution_count": 107,
   "metadata": {},
   "outputs": [
    {
     "name": "stdout",
     "output_type": "stream",
     "text": [
      "Test Accuracy Score 0.9636363636363636\n"
     ]
    }
   ],
   "source": [
    "acc_score = accuracy_score(test['category'],test[\"predict\"])\n",
    "print(\"Test Accuracy Score\",acc_score)"
   ]
  },
  {
   "cell_type": "markdown",
   "metadata": {},
   "source": [
    "#conclusion - misclassifications are happening on baby and music"
   ]
  }
 ],
 "metadata": {
  "kernelspec": {
   "display_name": "sem_env",
   "name": "sem_env"
  },
  "language_info": {
   "name": "python",
   "version": ""
  },
  "orig_nbformat": 4
 },
 "nbformat": 4,
 "nbformat_minor": 2
}