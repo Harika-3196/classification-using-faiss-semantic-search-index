{
 "cells": [
  {
   "cell_type": "markdown",
   "metadata": {},
   "source": [
    "Load Libraries"
   ]
  },
  {
   "cell_type": "code",
   "execution_count": 62,
   "metadata": {},
   "outputs": [],
   "source": [
    "import os\n",
    "import time\n",
    "import faiss\n",
    "import string\n",
    "import pickle\n",
    "import numpy as np\n",
    "import pandas as pd\n",
    "import seaborn as sns\n",
    "\n",
    "from typing import List\n",
    "from collections import Counter\n",
    "\n",
    "from sklearn.metrics import accuracy_score\n",
    "\n",
    "from sklearn.model_selection import train_test_split\n",
    "from sentence_transformers import SentenceTransformer\n",
    "from sklearn.metrics import classification_report,confusion_matrix\n",
    "\n",
    "# pd.set_option('display.max_rows', None)\n",
    "# pd.set_option('display.max_columns', None)\n",
    "# pd.set_option('display.max_colwidth', None)"
   ]
  },
  {
   "cell_type": "code",
   "execution_count": 63,
   "metadata": {},
   "outputs": [],
   "source": [
    "df=pd.read_csv(\"./data/20_newsgroup.csv\")\n",
    "df=df[[\"text\",\"title\"]]"
   ]
  },
  {
   "cell_type": "code",
   "execution_count": 64,
   "metadata": {},
   "outputs": [
    {
     "data": {
      "text/html": [
       "<div>\n",
       "<style scoped>\n",
       "    .dataframe tbody tr th:only-of-type {\n",
       "        vertical-align: middle;\n",
       "    }\n",
       "\n",
       "    .dataframe tbody tr th {\n",
       "        vertical-align: top;\n",
       "    }\n",
       "\n",
       "    .dataframe thead th {\n",
       "        text-align: right;\n",
       "    }\n",
       "</style>\n",
       "<table border=\"1\" class=\"dataframe\">\n",
       "  <thead>\n",
       "    <tr style=\"text-align: right;\">\n",
       "      <th></th>\n",
       "      <th>text</th>\n",
       "      <th>title</th>\n",
       "    </tr>\n",
       "  </thead>\n",
       "  <tbody>\n",
       "    <tr>\n",
       "      <th>3480</th>\n",
       "      <td>\\n\\n\\nWhat do you mean \"more comfortable putting it up to.\"  That seems a bit\\nhard to evaluate.  At least for me it is.  \\n\\nStare straight Point with both hands together and clasp so that only the\\npointer fingers are pointing straight forward to a a spot on the wall about\\neight feet away.  First stare at the spot with both eyes open.  Now\\nclose your left eye.  Now open your left eye.  Now close your right eye.\\nnow open your right eye.\\n\\nIf the image jumped more when you closed your right eye, you are right\\neye dominant.\\n\\nIf the image jumped more when you closed your left eye, you are left eye\\ndominant.\\n</td>\n",
       "      <td>sci.med</td>\n",
       "    </tr>\n",
       "    <tr>\n",
       "      <th>555</th>\n",
       "      <td>I just wanted to know:</td>\n",
       "      <td>rec.autos</td>\n",
       "    </tr>\n",
       "    <tr>\n",
       "      <th>17</th>\n",
       "      <td>\\n\\n\\n\\n\\n\\nBzzt.\\nThe manta was a two-door sedan in the US.\\nIt had a 1900 engine.\\nWas sometimes referred to as an Opel 1900.\\nManta's are also ve hot and fun cars too.\\n\\n\\n\\n\\n\\n\\n\\n\\n\\n\\n\\n\\n\\n\\n\\n\\n\\n\\n</td>\n",
       "      <td>rec.autos</td>\n",
       "    </tr>\n",
       "    <tr>\n",
       "      <th>1473</th>\n",
       "      <td>Does anyone know where I can FTP MPEG for DOS from?  Thanks for any\\nhelp in advance.  Email is preferred but posting is fine.\\n\\n\\t\\t\\t\\tScott\\n\\n\\n---------------------------------------------------------------------------</td>\n",
       "      <td>comp.graphics</td>\n",
       "    </tr>\n",
       "    <tr>\n",
       "      <th>2401</th>\n",
       "      <td>\\n\\n\\nThe existence of the weapon in and of itself (and this is also\\ntrue for biologics and chemical weapons, but for slightly different\\nreasons) poses a threat to living critters.  Can you say \"neutron\\nand other radiation flux due to radioactive decay\", boys and girls?</td>\n",
       "      <td>talk.politics.guns</td>\n",
       "    </tr>\n",
       "  </tbody>\n",
       "</table>\n",
       "</div>"
      ],
      "text/plain": [
       "                                                                                                                                                                                                                                                                                                                                                                                                                                                                                                                                                                                                                                                text  \\\n",
       "3480  \\n\\n\\nWhat do you mean \"more comfortable putting it up to.\"  That seems a bit\\nhard to evaluate.  At least for me it is.  \\n\\nStare straight Point with both hands together and clasp so that only the\\npointer fingers are pointing straight forward to a a spot on the wall about\\neight feet away.  First stare at the spot with both eyes open.  Now\\nclose your left eye.  Now open your left eye.  Now close your right eye.\\nnow open your right eye.\\n\\nIf the image jumped more when you closed your right eye, you are right\\neye dominant.\\n\\nIf the image jumped more when you closed your left eye, you are left eye\\ndominant.\\n   \n",
       "555                                                                                                                                                                                                                                                                                                                                                                                                                                                                                                                                                                                                                           I just wanted to know:   \n",
       "17                                                                                                                                                                                                                                                                                                                                                                                                                                  \\n\\n\\n\\n\\n\\nBzzt.\\nThe manta was a two-door sedan in the US.\\nIt had a 1900 engine.\\nWas sometimes referred to as an Opel 1900.\\nManta's are also ve hot and fun cars too.\\n\\n\\n\\n\\n\\n\\n\\n\\n\\n\\n\\n\\n\\n\\n\\n\\n\\n\\n   \n",
       "1473                                                                                                                                                                                                                                                                                                                                                                                                                Does anyone know where I can FTP MPEG for DOS from?  Thanks for any\\nhelp in advance.  Email is preferred but posting is fine.\\n\\n\\t\\t\\t\\tScott\\n\\n\\n---------------------------------------------------------------------------   \n",
       "2401                                                                                                                                                                                                                                                                                                                                                               \\n\\n\\nThe existence of the weapon in and of itself (and this is also\\ntrue for biologics and chemical weapons, but for slightly different\\nreasons) poses a threat to living critters.  Can you say \"neutron\\nand other radiation flux due to radioactive decay\", boys and girls?   \n",
       "\n",
       "                   title  \n",
       "3480             sci.med  \n",
       "555            rec.autos  \n",
       "17             rec.autos  \n",
       "1473       comp.graphics  \n",
       "2401  talk.politics.guns  "
      ]
     },
     "execution_count": 64,
     "metadata": {},
     "output_type": "execute_result"
    }
   ],
   "source": [
    "df.sample(5)"
   ]
  },
  {
   "cell_type": "code",
   "execution_count": 65,
   "metadata": {},
   "outputs": [
    {
     "data": {
      "text/plain": [
       "title\n",
       "rec.sport.hockey            600\n",
       "soc.religion.christian      599\n",
       "rec.motorcycles             598\n",
       "rec.sport.baseball          597\n",
       "sci.crypt                   595\n",
       "rec.autos                   594\n",
       "sci.med                     594\n",
       "comp.windows.x              593\n",
       "sci.space                   593\n",
       "comp.os.ms-windows.misc     591\n",
       "sci.electronics             591\n",
       "comp.sys.ibm.pc.hardware    590\n",
       "misc.forsale                585\n",
       "comp.graphics               584\n",
       "comp.sys.mac.hardware       578\n",
       "talk.politics.mideast       564\n",
       "talk.politics.guns          546\n",
       "alt.atheism                 480\n",
       "talk.politics.misc          465\n",
       "talk.religion.misc          377\n",
       "Name: count, dtype: int64"
      ]
     },
     "execution_count": 65,
     "metadata": {},
     "output_type": "execute_result"
    }
   ],
   "source": [
    "df[\"title\"].value_counts()"
   ]
  },
  {
   "cell_type": "code",
   "execution_count": 66,
   "metadata": {},
   "outputs": [
    {
     "data": {
      "text/plain": [
       "array(['rec.autos', 'comp.sys.mac.hardware', 'comp.graphics', 'sci.space',\n",
       "       'talk.politics.guns', 'sci.med', 'comp.sys.ibm.pc.hardware',\n",
       "       'comp.os.ms-windows.misc', 'rec.motorcycles', 'talk.religion.misc',\n",
       "       'misc.forsale', 'alt.atheism', 'sci.electronics', 'comp.windows.x',\n",
       "       'rec.sport.hockey', 'rec.sport.baseball', 'soc.religion.christian',\n",
       "       'talk.politics.mideast', 'talk.politics.misc', 'sci.crypt'],\n",
       "      dtype=object)"
      ]
     },
     "execution_count": 66,
     "metadata": {},
     "output_type": "execute_result"
    }
   ],
   "source": [
    "df['title'].unique()"
   ]
  },
  {
   "cell_type": "code",
   "execution_count": 67,
   "metadata": {},
   "outputs": [
    {
     "data": {
      "text/plain": [
       "'Hi, can anyone direct me to map type gifs? \\n\\nI am interesting in cartography and would find\\nthese gifs useful.\\n\\ntia,\\n'"
      ]
     },
     "execution_count": 67,
     "metadata": {},
     "output_type": "execute_result"
    }
   ],
   "source": [
    "df[\"text\"].iloc[1500]"
   ]
  },
  {
   "cell_type": "code",
   "execution_count": 68,
   "metadata": {},
   "outputs": [
    {
     "data": {
      "text/plain": [
       "11314"
      ]
     },
     "execution_count": 68,
     "metadata": {},
     "output_type": "execute_result"
    }
   ],
   "source": [
    "len(df)"
   ]
  },
  {
   "cell_type": "markdown",
   "metadata": {},
   "source": [
    "## selecting few diverse classes for usecase"
   ]
  },
  {
   "cell_type": "code",
   "execution_count": 69,
   "metadata": {},
   "outputs": [],
   "source": [
    "list_=['sci.space','comp.sys.mac.hardware','soc.religion.christian','sci.med','rec.sport.hockey','sci.crypt','comp.graphics']\n",
    "selected=df[df[\"title\"].isin(list_)]"
   ]
  },
  {
   "cell_type": "code",
   "execution_count": 70,
   "metadata": {},
   "outputs": [
    {
     "name": "stderr",
     "output_type": "stream",
     "text": [
      "/var/folders/0w/7szmzlg15ljc6n0sn48w0jph0000gq/T/ipykernel_20284/1199455941.py:1: SettingWithCopyWarning: \n",
      "A value is trying to be set on a copy of a slice from a DataFrame\n",
      "\n",
      "See the caveats in the documentation: https://pandas.pydata.org/pandas-docs/stable/user_guide/indexing.html#returning-a-view-versus-a-copy\n",
      "  selected.drop_duplicates(inplace=True)\n"
     ]
    }
   ],
   "source": [
    "selected.drop_duplicates(inplace=True)"
   ]
  },
  {
   "cell_type": "code",
   "execution_count": 71,
   "metadata": {},
   "outputs": [
    {
     "name": "stderr",
     "output_type": "stream",
     "text": [
      "/var/folders/0w/7szmzlg15ljc6n0sn48w0jph0000gq/T/ipykernel_20284/1964287960.py:3: SettingWithCopyWarning: \n",
      "A value is trying to be set on a copy of a slice from a DataFrame.\n",
      "Try using .loc[row_indexer,col_indexer] = value instead\n",
      "\n",
      "See the caveats in the documentation: https://pandas.pydata.org/pandas-docs/stable/user_guide/indexing.html#returning-a-view-versus-a-copy\n",
      "  selected[\"text\"]=selected[\"text\"].astype(str)\n"
     ]
    }
   ],
   "source": [
    "# selected_df=selected.groupby('title').sample(400)\n",
    "\n",
    "selected[\"text\"]=selected[\"text\"].astype(str)"
   ]
  },
  {
   "cell_type": "code",
   "execution_count": 72,
   "metadata": {},
   "outputs": [
    {
     "data": {
      "text/plain": [
       "4064"
      ]
     },
     "execution_count": 72,
     "metadata": {},
     "output_type": "execute_result"
    }
   ],
   "source": [
    "len(selected)"
   ]
  },
  {
   "cell_type": "code",
   "execution_count": 73,
   "metadata": {},
   "outputs": [
    {
     "data": {
      "text/html": [
       "<div>\n",
       "<style scoped>\n",
       "    .dataframe tbody tr th:only-of-type {\n",
       "        vertical-align: middle;\n",
       "    }\n",
       "\n",
       "    .dataframe tbody tr th {\n",
       "        vertical-align: top;\n",
       "    }\n",
       "\n",
       "    .dataframe thead th {\n",
       "        text-align: right;\n",
       "    }\n",
       "</style>\n",
       "<table border=\"1\" class=\"dataframe\">\n",
       "  <thead>\n",
       "    <tr style=\"text-align: right;\">\n",
       "      <th></th>\n",
       "      <th>text</th>\n",
       "      <th>title</th>\n",
       "    </tr>\n",
       "  </thead>\n",
       "  <tbody>\n",
       "    <tr>\n",
       "      <th>8066</th>\n",
       "      <td>A fine 26 year history came to a close tonight, as the Minnesota North Stars, \\nor Norm's Stars (whichever you prefer) lost to the Red Wings by a score of\\n5-3.  The Stars goals were scored by Mike McPhee and Ulf Dahlen, who netted\\ntwo including the final one in franchise history, with less than a minute to\\nplay.\\n\\nTonight, on the air on the Stars TV telecast, announcer Al Shaver, the voice\\nof the North Stars, stated basically that he will not follow the team to \\nDallas.  Shaver, when asked by his son (who was doing the broadcast with him),\\n\"What will you do now?\" responded, \"First I'm going to get me a new pair of\\nslippers.  Then I'm going to sit in my easy chair and watch the world go by.\"\\n\\nThank you North Stars, and thank you Al Shaver, for 26 years of Minnesota\\nmemories.</td>\n",
       "      <td>rec.sport.hockey</td>\n",
       "    </tr>\n",
       "    <tr>\n",
       "      <th>2313</th>\n",
       "      <td>Thanks Ron and Peter for some very nice maps.\\n\\nI have an advice though.  You wrote that the maps were reduced to 256\\ncolors.  As far ad I understand JPEG pictures gets much better (and\\nthe compressed files smaller) if you use the original 3 color 24 bit\\ndata when converting to JPEG.\\n\\nThanks again,\\n</td>\n",
       "      <td>sci.space</td>\n",
       "    </tr>\n",
       "    <tr>\n",
       "      <th>9365</th>\n",
       "      <td>First, I thank collectively all people who have given good answers\\nto my questions. In my follow-up to Jason Smith's posting, I will\\naddress some issues that have caused misunderstanding:\\n\\n\\n\\n\\nYes, to some degree. There was an excellent discussion in sci.skeptic\\non the nature of scientific work two weeks ago, I hope it did not\\nescape your notice. \\n\\nThe correct word is 'likely'. There is no way to be sure our models and\\ntheories are absolutely correct. Theories are backed up by evidence,\\nbut not proved - no theory can be 'true' in a mathematical sense.\\n\\nHowever, theories are not mere descriptions or rationalisations of\\nphenomena. It is extremely important to test whether theories can\\n_predict_ something new or not yet observed. All successful theories\\nscience has come up with have passed this test, including the Big\\nBang theory of cosmic evolution, the theory of natural selection etc.\\nIt does not mean they _must_ be correct, but they are not mere\\n'best fits' for the data. \\n\\n\\n\\nWell, yes, if you want to _believe_ in them. This is not what science\\nrequires - take a good look at the theory and the evidence, see if\\nthe theory has made any successful predictions, and use your reason.\\nDisbelievers are not punished. \\n\\n\\nThis is what puzzles me - why do we need to have faith in _anything_?\\nMy fellow atheists would call me a weak atheist - someone who is\\nunable to believe, ie, fails to entertain any belief in God. \\n\\nYes, I know that one can't believe without God's help; Luther makes\\nthis quite clear in his letter to Erasmus. I'm afraid this does not\\nchange my situation. \\n\\n\\n\\n\\n(deletions)\\n\\n\\n\\nNo, it is not, although it does look like one. This is a true dichotomy,\\neither something exists, or nothing exists. If nothing exists, nobody\\nwould ask why. If something exists, it is possible to ask why, but\\nactually no existing being could give an answer. \\n\\nImagine, for a moment, that the nobodies in non-existence could also\\nask: \"Why nothing exists?\" This is equivalent to my counter-question,\\n\"why nothing exists in nothingness\". \\n\\nNow, \"why anything exists\" is equivalent to \"why something exists in\\nsomethingness\".  _This_ is what I meant with my tautology, my apologies\\nfor the poor wording in my previous post.\\n\\n\\nI do indeed think there probably _is_ no reason for being, or existence,\\nin general, for reasons I stated above. However, they will still\\nleave open the question \"why this, and not that\", and this is where\\ntheistic explanations come in.\\n\\nScience cannot give reasons for any _particular_ human being's existence.\\n\\n\\nThis is a deep philosophical question - is determinism true, or not?\\nAlso, is God deterministic or not? I tend to think this question has\\nno meaning in His case. \\n\\nIf I am for a reason, I've yet failed to see what it would be. \\nFrom our perspective, it looks like 'I' exist for truly random\\nreasons. I just rolled two dice - why did I get 6 and 1? How can\\nI believe there is any better reason for my existence?\\n\\n\\nYes, I am satisfied with this reason, until I find something better.\\nMy 15 years of Christianity were of no help in this respect, I have\\nto admit, but I am patient.\\n\\n\\n\\nNo, it doesn't, but I think an existing God cannot know why He exists,\\nfor an answer to this question is not knowable. Of course, this\\nshould not be any obstacle to belief in His existence.\\n\\n\\nIt is impossible to know unknowable things. However, the question \\n\"why do I exist, in particular\" is _not_ an invalid question - this\\nis not what I said. But from our perspective, it is impossible to\\ntell, and I can't just believe in any given explanation instead of\\nanother, especially since I found I was deluding myself. \\n\\n\\nI think \"pre-existence\" is an oxymoron. There is no time 'outside' of\\nthis spacetime (except in some other universe), and from that \\nperspective, our universe never was. It exists only for those who\\nare inside it. \\n\\n\\nNo. The validity of the question has to be discussed separately; I think\\nphilosophy is of great help here. What can be known, and what is not\\nknowable?\\n\\n\\nThis is a very good question. In trying to answer this, and numerous\\nother questions that bothered me, I finally found nothing to base\\nmy faith on. \\n\\nI think it would be honest if we all asked ourselves, \"why do I believe\"\\nor \"why I don't believe\". \\n\\nPetri\\n</td>\n",
       "      <td>soc.religion.christian</td>\n",
       "    </tr>\n",
       "    <tr>\n",
       "      <th>1492</th>\n",
       "      <td>Hi... can anybody give me book or reference title to give me a start at \\nfractal image compression technique. Helps will be appreciated... thanx</td>\n",
       "      <td>comp.graphics</td>\n",
       "    </tr>\n",
       "    <tr>\n",
       "      <th>10894</th>\n",
       "      <td>In this giant bally-ho over this Clipper chip I noticed a rather\\ndisturbing trend in some of the E-mail and posts I've tossing back and\\nforth.  \\n\\nSomebody asked me what was wrong about overreacting in cases such as this.\\n\\nThe reason is very simple:  How many people do you want to die in a riot? \\nIn a new Civil War? \\n\\nEverybody is jumping up and down and screaming about it, and I'm worried\\nthat people are going to reach for their hammers and rifles before their pens\\nand paper.  \\n\\nCan people work within the system before trying to break it?  Examine your\\nhistory books, and find out how many armed revolutions led to Democratic\\n(or Democratic style) governments.  I think you'll only find one in over\\nfive thousand years of written history.\\n\\nThat's not very good odds.  \\n\\nSomebody once said something like: \"Armed Violence is meant only to be\\nused in response to an armed attack.  It is not meant to be used in\\nagression.  This is the difference between self-defence and murder.\"\\n\\nLet's try to avoid killing things, eh?  There's enough blood shed in the\\nworld, without adding a couple of riots, Civil Wars, etc.\\n\\nI'm probably overreacting.  But what I've read scared me a lot.  I don't\\nwant my children growing up in a War Zone.\\n\\n</td>\n",
       "      <td>sci.crypt</td>\n",
       "    </tr>\n",
       "  </tbody>\n",
       "</table>\n",
       "</div>"
      ],
      "text/plain": [
       "                                                                                                                                                                                                                                                                                                                                                                                                                                                                                                                                                                                                                                                                                                                                                                                                                                                                                                                                                                                                                                                                                                                                                                                                                                                                                                                                                                                                                                                                                                                                                                                                                                                                                                                                                                                                                                                                                                                                                                                                                                                                                                                                                                                                                                                                                                                                                                                                                                                                                                                                                                                                                                                                                                                                                                                                                                                                                                                                                                                                                                                                                                                                                                                                                                                                                                                                                                                                                                                                                                                                                                                                                                                                                                                                                                                                                                                                                                                                                                                                                                                                                                                                                                                                                                                                                                                                                                                                                                                                                                                                                                     text  \\\n",
       "8066                                                                                                                                                                                                                                                                                                                                                                                                                                                                                                                                                                                                                                                                                                                                                                                                                                                                                                                                                                                                                                                                                                                                                                                                                                                                                                                                                                                                                                                                                                                                                                                                                                                                                                                                                                                                                                                                                                                                                                                                                                                                                                                                                                                                                                                                                                                                                                                                                                                                                                                                                                                                                                                                                                                                                                                                                                                                                                                                                                                                                                                                                                                                                                                                                                                                                                                                                                                                                                                                                                                                                                                                                                                                                                                                          A fine 26 year history came to a close tonight, as the Minnesota North Stars, \\nor Norm's Stars (whichever you prefer) lost to the Red Wings by a score of\\n5-3.  The Stars goals were scored by Mike McPhee and Ulf Dahlen, who netted\\ntwo including the final one in franchise history, with less than a minute to\\nplay.\\n\\nTonight, on the air on the Stars TV telecast, announcer Al Shaver, the voice\\nof the North Stars, stated basically that he will not follow the team to \\nDallas.  Shaver, when asked by his son (who was doing the broadcast with him),\\n\"What will you do now?\" responded, \"First I'm going to get me a new pair of\\nslippers.  Then I'm going to sit in my easy chair and watch the world go by.\"\\n\\nThank you North Stars, and thank you Al Shaver, for 26 years of Minnesota\\nmemories.   \n",
       "2313                                                                                                                                                                                                                                                                                                                                                                                                                                                                                                                                                                                                                                                                                                                                                                                                                                                                                                                                                                                                                                                                                                                                                                                                                                                                                                                                                                                                                                                                                                                                                                                                                                                                                                                                                                                                                                                                                                                                                                                                                                                                                                                                                                                                                                                                                                                                                                                                                                                                                                                                                                                                                                                                                                                                                                                                                                                                                                                                                                                                                                                                                                                                                                                                                                                                                                                                                                                                                                                                                                                                                                                                                                                                                                                                                                                                                                                                                                                                                                                                                                                                                                                                                                                                                                                  Thanks Ron and Peter for some very nice maps.\\n\\nI have an advice though.  You wrote that the maps were reduced to 256\\ncolors.  As far ad I understand JPEG pictures gets much better (and\\nthe compressed files smaller) if you use the original 3 color 24 bit\\ndata when converting to JPEG.\\n\\nThanks again,\\n   \n",
       "9365   First, I thank collectively all people who have given good answers\\nto my questions. In my follow-up to Jason Smith's posting, I will\\naddress some issues that have caused misunderstanding:\\n\\n\\n\\n\\nYes, to some degree. There was an excellent discussion in sci.skeptic\\non the nature of scientific work two weeks ago, I hope it did not\\nescape your notice. \\n\\nThe correct word is 'likely'. There is no way to be sure our models and\\ntheories are absolutely correct. Theories are backed up by evidence,\\nbut not proved - no theory can be 'true' in a mathematical sense.\\n\\nHowever, theories are not mere descriptions or rationalisations of\\nphenomena. It is extremely important to test whether theories can\\n_predict_ something new or not yet observed. All successful theories\\nscience has come up with have passed this test, including the Big\\nBang theory of cosmic evolution, the theory of natural selection etc.\\nIt does not mean they _must_ be correct, but they are not mere\\n'best fits' for the data. \\n\\n\\n\\nWell, yes, if you want to _believe_ in them. This is not what science\\nrequires - take a good look at the theory and the evidence, see if\\nthe theory has made any successful predictions, and use your reason.\\nDisbelievers are not punished. \\n\\n\\nThis is what puzzles me - why do we need to have faith in _anything_?\\nMy fellow atheists would call me a weak atheist - someone who is\\nunable to believe, ie, fails to entertain any belief in God. \\n\\nYes, I know that one can't believe without God's help; Luther makes\\nthis quite clear in his letter to Erasmus. I'm afraid this does not\\nchange my situation. \\n\\n\\n\\n\\n(deletions)\\n\\n\\n\\nNo, it is not, although it does look like one. This is a true dichotomy,\\neither something exists, or nothing exists. If nothing exists, nobody\\nwould ask why. If something exists, it is possible to ask why, but\\nactually no existing being could give an answer. \\n\\nImagine, for a moment, that the nobodies in non-existence could also\\nask: \"Why nothing exists?\" This is equivalent to my counter-question,\\n\"why nothing exists in nothingness\". \\n\\nNow, \"why anything exists\" is equivalent to \"why something exists in\\nsomethingness\".  _This_ is what I meant with my tautology, my apologies\\nfor the poor wording in my previous post.\\n\\n\\nI do indeed think there probably _is_ no reason for being, or existence,\\nin general, for reasons I stated above. However, they will still\\nleave open the question \"why this, and not that\", and this is where\\ntheistic explanations come in.\\n\\nScience cannot give reasons for any _particular_ human being's existence.\\n\\n\\nThis is a deep philosophical question - is determinism true, or not?\\nAlso, is God deterministic or not? I tend to think this question has\\nno meaning in His case. \\n\\nIf I am for a reason, I've yet failed to see what it would be. \\nFrom our perspective, it looks like 'I' exist for truly random\\nreasons. I just rolled two dice - why did I get 6 and 1? How can\\nI believe there is any better reason for my existence?\\n\\n\\nYes, I am satisfied with this reason, until I find something better.\\nMy 15 years of Christianity were of no help in this respect, I have\\nto admit, but I am patient.\\n\\n\\n\\nNo, it doesn't, but I think an existing God cannot know why He exists,\\nfor an answer to this question is not knowable. Of course, this\\nshould not be any obstacle to belief in His existence.\\n\\n\\nIt is impossible to know unknowable things. However, the question \\n\"why do I exist, in particular\" is _not_ an invalid question - this\\nis not what I said. But from our perspective, it is impossible to\\ntell, and I can't just believe in any given explanation instead of\\nanother, especially since I found I was deluding myself. \\n\\n\\nI think \"pre-existence\" is an oxymoron. There is no time 'outside' of\\nthis spacetime (except in some other universe), and from that \\nperspective, our universe never was. It exists only for those who\\nare inside it. \\n\\n\\nNo. The validity of the question has to be discussed separately; I think\\nphilosophy is of great help here. What can be known, and what is not\\nknowable?\\n\\n\\nThis is a very good question. In trying to answer this, and numerous\\nother questions that bothered me, I finally found nothing to base\\nmy faith on. \\n\\nI think it would be honest if we all asked ourselves, \"why do I believe\"\\nor \"why I don't believe\". \\n\\nPetri\\n   \n",
       "1492                                                                                                                                                                                                                                                                                                                                                                                                                                                                                                                                                                                                                                                                                                                                                                                                                                                                                                                                                                                                                                                                                                                                                                                                                                                                                                                                                                                                                                                                                                                                                                                                                                                                                                                                                                                                                                                                                                                                                                                                                                                                                                                                                                                                                                                                                                                                                                                                                                                                                                                                                                                                                                                                                                                                                                                                                                                                                                                                                                                                                                                                                                                                                                                                                                                                                                                                                                                                                                                                                                                                                                                                                                                                                                                                                                                                                                                                                                                                                                                                                                                                                                                                                                                                                                                                                                                                                                                                                    Hi... can anybody give me book or reference title to give me a start at \\nfractal image compression technique. Helps will be appreciated... thanx   \n",
       "10894                                                                                                                                                                                                                                                                                                                                                                                                                                                                                                                                                                                                                                                                                                                                                                                                                                                                                                                                                                                                                                                                                                                                                                                                                                                                                                                                                                                                                                                                                                                                                                                                                                                                                                                                                                                                                                                                                                                                                                                                                                                                                                                                                                                                                                                                                                                                                                                                                                                                                                                                                                                                                                                                                                                                                                                                                                                                                                                                                                                                                                                                                                                                                                                                                                                    In this giant bally-ho over this Clipper chip I noticed a rather\\ndisturbing trend in some of the E-mail and posts I've tossing back and\\nforth.  \\n\\nSomebody asked me what was wrong about overreacting in cases such as this.\\n\\nThe reason is very simple:  How many people do you want to die in a riot? \\nIn a new Civil War? \\n\\nEverybody is jumping up and down and screaming about it, and I'm worried\\nthat people are going to reach for their hammers and rifles before their pens\\nand paper.  \\n\\nCan people work within the system before trying to break it?  Examine your\\nhistory books, and find out how many armed revolutions led to Democratic\\n(or Democratic style) governments.  I think you'll only find one in over\\nfive thousand years of written history.\\n\\nThat's not very good odds.  \\n\\nSomebody once said something like: \"Armed Violence is meant only to be\\nused in response to an armed attack.  It is not meant to be used in\\nagression.  This is the difference between self-defence and murder.\"\\n\\nLet's try to avoid killing things, eh?  There's enough blood shed in the\\nworld, without adding a couple of riots, Civil Wars, etc.\\n\\nI'm probably overreacting.  But what I've read scared me a lot.  I don't\\nwant my children growing up in a War Zone.\\n\\n   \n",
       "\n",
       "                        title  \n",
       "8066         rec.sport.hockey  \n",
       "2313                sci.space  \n",
       "9365   soc.religion.christian  \n",
       "1492            comp.graphics  \n",
       "10894               sci.crypt  "
      ]
     },
     "execution_count": 73,
     "metadata": {},
     "output_type": "execute_result"
    }
   ],
   "source": [
    "selected[[\"text\",\"title\"]].sample(5)"
   ]
  },
  {
   "cell_type": "markdown",
   "metadata": {},
   "source": [
    "## Data Cleaning"
   ]
  },
  {
   "cell_type": "code",
   "execution_count": 74,
   "metadata": {},
   "outputs": [
    {
     "name": "stderr",
     "output_type": "stream",
     "text": [
      "/var/folders/0w/7szmzlg15ljc6n0sn48w0jph0000gq/T/ipykernel_20284/473358746.py:14: SettingWithCopyWarning: \n",
      "A value is trying to be set on a copy of a slice from a DataFrame.\n",
      "Try using .loc[row_indexer,col_indexer] = value instead\n",
      "\n",
      "See the caveats in the documentation: https://pandas.pydata.org/pandas-docs/stable/user_guide/indexing.html#returning-a-view-versus-a-copy\n",
      "  selected[\"cleaned_data\"]=selected[\"text\"].apply(lambda x:clean(x) if x!=None else x)\n"
     ]
    }
   ],
   "source": [
    "import re\n",
    "\n",
    "def clean(text):\n",
    "    text=text.lower()\n",
    "    url_removed=re.sub(r'https\\S+','',text,flags=re.MULTILINE)\n",
    "    text=re.sub(\"[^a-zA-Z]\",\" \",url_removed)\n",
    "    text=re.sub(\"\\.+\",\" \",text)\n",
    "    text=[word for word in text if word not in string.punctuation]\n",
    "    text=\"\".join(text).strip()\n",
    "    text=re.sub(\"\\s\\s+\", \" \", text)\n",
    "    return \"\".join(text).strip()\n",
    "\n",
    "\n",
    "selected[\"cleaned_data\"]=selected[\"text\"].apply(lambda x:clean(x) if x!=None else x)"
   ]
  },
  {
   "cell_type": "markdown",
   "metadata": {},
   "source": [
    "## Split into train and test"
   ]
  },
  {
   "cell_type": "code",
   "execution_count": 75,
   "metadata": {},
   "outputs": [],
   "source": [
    "train,test= train_test_split(selected,stratify=selected[[\"title\"]],test_size=0.2)\n",
    "train.reset_index(drop=True,inplace=True)\n",
    "test.reset_index(drop=True,inplace=True)"
   ]
  },
  {
   "cell_type": "code",
   "execution_count": 76,
   "metadata": {},
   "outputs": [
    {
     "data": {
      "text/plain": [
       "title\n",
       "soc.religion.christian    476\n",
       "rec.sport.hockey          470\n",
       "sci.crypt                 467\n",
       "sci.med                   466\n",
       "sci.space                 463\n",
       "comp.graphics             459\n",
       "comp.sys.mac.hardware     450\n",
       "Name: count, dtype: int64"
      ]
     },
     "execution_count": 76,
     "metadata": {},
     "output_type": "execute_result"
    }
   ],
   "source": [
    "train['title'].value_counts()"
   ]
  },
  {
   "cell_type": "markdown",
   "metadata": {},
   "source": [
    "## Save the data"
   ]
  },
  {
   "cell_type": "code",
   "execution_count": 77,
   "metadata": {},
   "outputs": [],
   "source": [
    "train.to_csv(\"train_data.csv\",index=False)\n",
    "test.to_csv(\"test_data.csv\",index=False)"
   ]
  },
  {
   "cell_type": "markdown",
   "metadata": {},
   "source": [
    "## Generate Embedding using paralleism"
   ]
  },
  {
   "cell_type": "code",
   "execution_count": 78,
   "metadata": {},
   "outputs": [
    {
     "data": {
      "application/vnd.jupyter.widget-view+json": {
       "model_id": "c04b3e8572b04f80aadef2f3bf3fb95b",
       "version_major": 2,
       "version_minor": 0
      },
      "text/plain": [
       "Batches:   0%|          | 0/102 [00:00<?, ?it/s]"
      ]
     },
     "metadata": {},
     "output_type": "display_data"
    },
    {
     "name": "stdout",
     "output_type": "stream",
     "text": [
      "Time taken to encode 3251 items: 154.63\n",
      "(3251, 384)\n"
     ]
    }
   ],
   "source": [
    "model=SentenceTransformer('sentence-transformers/all-MiniLM-L6-v2')\n",
    "train_cleaned_texts = train[\"cleaned_data\"].tolist()\n",
    "train_cleaned_texts = list(map(str, train_cleaned_texts))\n",
    "import time\n",
    "import os\n",
    "\n",
    "def get_embeddings(model, sentences: List[str], parallel: bool = True):\n",
    "    start = time.time()\n",
    "    if parallel:\n",
    "        # Start the multi-process pool on all cores\n",
    "        os.environ[\"TOKENIZERS_PARALLELISM\"] = \"false\"\n",
    "        pool = model.start_multi_process_pool(target_devices=[\"cpu\"] * 5)\n",
    "        embeddings = model.encode_multi_process(sentences, pool, batch_size=16)\n",
    "        model.stop_multi_process_pool(pool)\n",
    "    else:\n",
    "        os.environ[\"TOKENIZERS_PARALLELISM\"] = \"true\"\n",
    "        embeddings = model.encode(\n",
    "            sentences,\n",
    "            batch_size=32,\n",
    "            show_progress_bar=True,\n",
    "            convert_to_tensor=True,\n",
    "        )\n",
    "    print(f\"Time taken to encode {len(sentences)} items: {round(time.time() - start, 2)}\")\n",
    "    return embeddings.detach().numpy()\n",
    "\n",
    "train_embeddings = get_embeddings(model=model, sentences=train_cleaned_texts, parallel=False)\n",
    "print(train_embeddings.shape)\n",
    "\n",
    "#save embeddings of idea texts\n",
    "cleaned_train_texts_embeddings_file = f\"./data/train_embeddings_all_minilm_l6_v2.pkl\"\n",
    "pickle.dump(train_embeddings, open(cleaned_train_texts_embeddings_file, \"wb\"))\n",
    "\n",
    "\n"
   ]
  },
  {
   "cell_type": "markdown",
   "metadata": {},
   "source": [
    "## create mappings"
   ]
  },
  {
   "cell_type": "code",
   "execution_count": 79,
   "metadata": {},
   "outputs": [],
   "source": [
    "#create mappings for index and category this will be later used for faiss\n",
    "train_category_index_mapping=dict(zip(train.index,train.title))\n",
    "with open('./data/train_category_index.pickle', 'wb') as handle:\n",
    "    pickle.dump(train_category_index_mapping, handle, protocol=pickle.HIGHEST_PROTOCOL)\n",
    "\n",
    "#load the mappings file which is used for printing category as output\n",
    "def get_mappings(file_name):\n",
    "    with open(file_name, 'rb') as handle:\n",
    "        category_mapping_dict = pickle.load(handle)\n",
    "    return category_mapping_dict\n",
    "\n",
    "\n",
    "mappings = get_mappings(file_name='./data/train_category_index.pickle')"
   ]
  },
  {
   "cell_type": "markdown",
   "metadata": {},
   "source": [
    "# load embeddings "
   ]
  },
  {
   "cell_type": "code",
   "execution_count": 80,
   "metadata": {},
   "outputs": [],
   "source": [
    "\n",
    "\n",
    "#read the embeddings created at earlier step\n",
    "def read_embeddings(file_name):\n",
    "    cleaned_texts_embeddings_file = file_name\n",
    "    if os.path.exists(cleaned_texts_embeddings_file):\n",
    "        with open(cleaned_texts_embeddings_file, \"rb\") as f:\n",
    "            embeddings = pickle.load(f)\n",
    "    temp1=np.asarray(embeddings,dtype=\"float32\")\n",
    "    return temp1\n",
    "\n",
    "\n",
    "    return\n",
    "\n",
    "samples = read_embeddings(file_name=f\"./data/train_embeddings_all_minilm_l6_v2.pkl\")"
   ]
  },
  {
   "cell_type": "markdown",
   "metadata": {},
   "source": [
    "## Creating and saving index"
   ]
  },
  {
   "cell_type": "code",
   "execution_count": 81,
   "metadata": {},
   "outputs": [],
   "source": [
    "\n",
    "\n",
    "#save the index once its created\n",
    "def save_index(index):\n",
    "    path = os.path.join(\"./data/\",\"news_train_index\")\n",
    "    faiss.write_index(index, path)\n",
    "\n",
    "# we have used flat Index and with Inner product\n",
    "def create_index(mappings,samples):\n",
    "    index = faiss.IndexIDMap(faiss.IndexFlatIP(samples.shape[1]))\n",
    "    faiss.normalize_L2(samples)  # normalise the embedding\n",
    "    #index.train(samples)\n",
    "    index.add_with_ids(samples,np.array(list(mappings.keys())))\n",
    "    save_index(index)\n",
    "create_index(mappings=mappings,samples=samples)"
   ]
  },
  {
   "cell_type": "code",
   "execution_count": 82,
   "metadata": {},
   "outputs": [],
   "source": [
    "# print top 2 categories among top5 nearest neighbours returned from index search\n",
    "train=pd.read_csv(\"train_data.csv\") # using the file from previous notebook created step\n",
    "test=pd.read_csv(\"test_data.csv\")\n",
    "\n",
    "\n"
   ]
  },
  {
   "cell_type": "markdown",
   "metadata": {},
   "source": [
    "## read the index and search for test query in index using predict function"
   ]
  },
  {
   "cell_type": "code",
   "execution_count": 83,
   "metadata": {},
   "outputs": [],
   "source": [
    "\n",
    "\n",
    "\n",
    "#read the index\n",
    "index = faiss.read_index(\"./data/news_train_index\")\n",
    "\n",
    "# embeddings for query\n",
    "def predict_embeddings(query):\n",
    "    query_embedding=model.encode(query)\n",
    "    query_embedding=np.asarray([query_embedding],dtype=\"float32\")\n",
    "    return query_embedding\n",
    "    \n",
    "\n",
    "#predict for given query\n",
    "def predict(query,mappings):\n",
    "    cleaned_query= clean(query)\n",
    "    query_embedding=predict_embeddings(cleaned_query)\n",
    "    faiss.normalize_L2(query_embedding)\n",
    "    D, I = index.search(query_embedding, 10) # d is the distance and I is the index number \n",
    "    D=[np.unique(D)]\n",
    "    I=[np.unique(I)]\n",
    "    res_df=[]\n",
    "    for values in I:\n",
    "        for val in D:\n",
    "            details= {'cleaned_text':list(train.iloc[values][\"cleaned_data\"]),\n",
    "            'category':list(train.iloc[values][\"title\"]),\n",
    "            'score':list(val)\n",
    "            }\n",
    "            res_df.append(details)\n",
    "    return res_df\n"
   ]
  },
  {
   "cell_type": "markdown",
   "metadata": {},
   "source": [
    "## obtain most frequent class or final class"
   ]
  },
  {
   "cell_type": "code",
   "execution_count": 84,
   "metadata": {},
   "outputs": [],
   "source": [
    "\n",
    "def most_frequent(result):\n",
    "    top2 = Counter(result)\n",
    "    return top2.most_common(1)"
   ]
  },
  {
   "cell_type": "code",
   "execution_count": 85,
   "metadata": {},
   "outputs": [],
   "source": [
    "pd.set_option('display.max_rows', None)\n"
   ]
  },
  {
   "cell_type": "code",
   "execution_count": 86,
   "metadata": {},
   "outputs": [],
   "source": [
    " res=predict(\"glycemic index\",mappings=mappings)"
   ]
  },
  {
   "cell_type": "code",
   "execution_count": 87,
   "metadata": {},
   "outputs": [
    {
     "data": {
      "text/html": [
       "<div>\n",
       "<style scoped>\n",
       "    .dataframe tbody tr th:only-of-type {\n",
       "        vertical-align: middle;\n",
       "    }\n",
       "\n",
       "    .dataframe tbody tr th {\n",
       "        vertical-align: top;\n",
       "    }\n",
       "\n",
       "    .dataframe thead th {\n",
       "        text-align: right;\n",
       "    }\n",
       "</style>\n",
       "<table border=\"1\" class=\"dataframe\">\n",
       "  <thead>\n",
       "    <tr style=\"text-align: right;\">\n",
       "      <th></th>\n",
       "      <th>cleaned_text</th>\n",
       "      <th>category</th>\n",
       "      <th>score</th>\n",
       "    </tr>\n",
       "  </thead>\n",
       "  <tbody>\n",
       "    <tr>\n",
       "      <th>0</th>\n",
       "      <td>blood glucose levels of or so are common several hours after a big meal this level will usually not cause symptoms if you mean reactive hypoglycemia there are usually no symptoms hence there is no disease hence the dietary recommendations are the same as for anyone else if a patient complains of dizziness faintness sweating palpitations etc reliably several hours after a big meal the recommendations are obvious eat smaller meals</td>\n",
       "      <td>sci.med</td>\n",
       "      <td>0.335596</td>\n",
       "    </tr>\n",
       "    <tr>\n",
       "      <th>1</th>\n",
       "      <td>check out the diabetic mailing list a knowledgable helpful friendly voluminous bunch send email to listserv pccvm bitnet with this line in the body subscribe diabetic your name here also the vote for misc health diabetes a newsgroup for general discussion of diabetes is currently underway and will close on april from the nd cfv posted to news announce newgroups news groups and sci med message q jshinn v rodan uu net</td>\n",
       "      <td>sci.med</td>\n",
       "      <td>0.338126</td>\n",
       "    </tr>\n",
       "    <tr>\n",
       "      <th>2</th>\n",
       "      <td>serum actually but plasma numbers are the same whole blood numbers for humans tend to be somewhat lower roughly to percent lower i find the following range for whole blood in fundamentals of clinical chemistry n w teitz editor w b saunders human glucose whole blood fasting levels mg dl indeed they do measure whole blood levels although they are not as accurate as a serum test done in a laboratory one problem is that cells in the sample continue to metabolize glucose after the sample is drawn reducing the apparent level according to teitz however results compare reasonably well with laboratory results although values below mg dl tend to be lower with strip tests whereas values above mg dl can be very erratic as stated above whole blood levels tend to be roughly to percent lower than serum levels sample freshness will affect whole blood levels however i don t believe there is a well defined conversion factor since cell metabolism will affect samples to varying degrees the serum plasma test is much preferred for any except general ball park testing</td>\n",
       "      <td>sci.med</td>\n",
       "      <td>0.349964</td>\n",
       "    </tr>\n",
       "    <tr>\n",
       "      <th>3</th>\n",
       "      <td>my blood pressure soars my heart pounds and i can t get to sleep for the life of me feels about like i just drank cups of coffee i avoid it and beet sugar flavor enhancers beet powder and whatever other names it may go under basicaly i read the ingredients and if i don t know what they all are i don t buy the product msg sensitivity is definately real relativity schmelativity richard h clark my opinions are my own and lunatik watch for me on the road ought to be yours but under it s not my fault i voted perot no circumstances are they richard tis com those of my company</td>\n",
       "      <td>sci.med</td>\n",
       "      <td>0.353059</td>\n",
       "    </tr>\n",
       "    <tr>\n",
       "      <th>4</th>\n",
       "      <td>a can anyone tell me if a bloodcount of when diagnosed as hypoglycemic is a dangerous i e indicates a possible pancreatic problem one dr says no the a other not his specialty says the first is negligent and that another blood a test should be done also what is a good diet what has worked for a hypo a glycemic tia a a a anthony anello a fermilab a batavia illinois once you have your hypoglycemia confirmed through the proper channels you might consider ther following chelated manganese mg day chelated chromium mcg day increase protein through foods or supplements avoid supplements foods high in potassium calcium zinc avoid vit c supplements in excess of mg avoid honey and foods high in simple sugars enjoy breads cereals grains discuss the above with your health practitioner for compatibility with your body chemistry and safety ron</td>\n",
       "      <td>sci.med</td>\n",
       "      <td>0.366020</td>\n",
       "    </tr>\n",
       "    <tr>\n",
       "      <th>5</th>\n",
       "      <td>jb jb ron roth recommends once you have your hypoglycemia confirmed through the jb proper channels you might consider the following jb diet omitted jb jb ron what do you consider to be proper channels this sounds suspiciously i m glad it caught your eye that s the purpose of this forum to educate those eager to learn about the facts of life that phrase is used to bridle the frenzy of all the would be respondents who otherwise would feel being left out as the proper authorities to be consulted on that topic in short it means absolutely nothing jb like a blood chemistry glucose tolerance and the like suddenly chemistry jb exists you know perfectly well that this person can be saved needless trouble jb and expense with simple muscle testing and hair analysis to diagnose no jb confirm any aberrant physiology but then again maybe that s what you mean muscle testing and hair analysis eh so what other fascinating space age medical techniques do you use do you sit under a pyramid over night as well to shrink your brain back to normal after a mind expanding day at your save the earth clinic jb were you able to understand dick king s post that of diseases is not thy jb evaluate the statistic you cited from the new england journal of medicine coul once i figure out what you are trying to say i ll still have to wrestle with the possibility of you conceivably not being able to understand my answer to your question jb ron have you ever thought about why you never post in misc health alterna jb tive and insist instead upon insinuating your untrained non medical often jb delusional notions of health and disease into this forum i suspect from your jb apparent anger toward mds and heteropathic medicine that there may be an you little psychoanalytical rascal you got me all figured out ja jb underlying father problem of course i can confirm this by surrogate muscle jb testing one of my patients while they ponder my theory to see if one of their jb previously weak indicator muscles strengthens or do you have reservations jb about my unique methods of diagnosis jb jb john badanes dc ca jb romdas uclink berkeley edu oh man when are you going to start teaching all this stuff i ll bet everyone on this net must be absolutely dying to learn more about going beyond spinal adjustments and head straight for the mind for some freudian subluxation ron</td>\n",
       "      <td>sci.med</td>\n",
       "      <td>0.387805</td>\n",
       "    </tr>\n",
       "    <tr>\n",
       "      <th>6</th>\n",
       "      <td>um i hate to break this to you but article numbers are unique per site they have no meaning on other machines you mean the responses some of which pointed to double blind tests which show no such chinese restaurant effect unique to msg it s elicited by the placebo as well like youself someone who can read a scientific paper and apparently come away from it with bizarrely cracked ideas which have nothing to do with the use of this substance in human nutrition no it s undisputed in the literature that glutamate is an amino acid which is an excitatory neurotransmitter there is also evidence that excessive release of glutamate may be involved in the pathology of certain conditions like stroke drowning and lou gehrig s disease just to name a few this is a completely different issue than the use of this ubiquitous amino acid in foods people are not receiving intra ventricular injections of glutamate i don t know about premier but it s certainly an important one sez you such an effect in humans has not been demonstrated in any controlled studies infant mice and other models are useful as far as they go but they re not relevant to the matter at hand which is not to say that i favor its use in things like baby food a patently ridiculous use of the additive but we have no reason to believe that msg in the diet effects humans adversely wrong do you know how much aspartate or phenylalanine is in a soft drink milligrams worth compare that to a glass of milk do you know how much glutamate is present in most protein containing foods compared to that added by the use of msg notice the subtle covering of her ass here anyone with a sensitivity we re disputing the size of that class impeccable there most certainly is a dispute</td>\n",
       "      <td>sci.med</td>\n",
       "      <td>0.405019</td>\n",
       "    </tr>\n",
       "    <tr>\n",
       "      <th>7</th>\n",
       "      <td>can anyone tell me if a bloodcount of when diagnosed as hypoglycemic is dangerous i e indicates a possible pancreatic problem one dr says no the other not his specialty says the first is negligent and that another blood test should be done also what is a good diet what has worked for a hypo glycemic tia anthony anello fermilab batavia illinois</td>\n",
       "      <td>sci.med</td>\n",
       "      <td>0.444681</td>\n",
       "    </tr>\n",
       "    <tr>\n",
       "      <th>8</th>\n",
       "      <td>it s worse than that there is no such thing as a double blind study on the effects of msg by virtue of the fact that msg changes the taste of food in a characteristic way that is detectable by the subject and that cannot be duplicated by a placebo common you can easily disguise to flavor of msg by putting it in a capsule then the study becomes a double blind of msg capsules against control capsules containing exactly the same contents minus the msg</td>\n",
       "      <td>sci.med</td>\n",
       "      <td>0.501760</td>\n",
       "    </tr>\n",
       "    <tr>\n",
       "      <th>9</th>\n",
       "      <td>are you sure g is the right number as far as i know pilots are blackout in dives that exceed g g g seems to be out of human tolerance would anybody clarify this please lan</td>\n",
       "      <td>sci.space</td>\n",
       "      <td>0.551272</td>\n",
       "    </tr>\n",
       "  </tbody>\n",
       "</table>\n",
       "</div>"
      ],
      "text/plain": [
       "                                                                                                                                                                                                                                                                                                                                                                                                                                                                                                                                                                                                                                                                                                                                                                                                                                                                                                                                                                                                                                                                                                                                                                                                                                                                                                                                                                                                                                                                                                                                                                                                                                                                                                                                                                                                                                                                                                                                                                                                                                                                                                                                                                                                                                                                                                                                                                                                                                                cleaned_text  \\\n",
       "0                                                                                                                                                                                                                                                                                                                                                                                                                                                                                                                                                                                                                                                                                                                                                                                                                                                                                                                                                                                                                                                                                                                                                                                                                                                                                                                                                                                                                                                                                                                                                                                                                                                                                                                                                                                                                                                                                                                                                                                                           blood glucose levels of or so are common several hours after a big meal this level will usually not cause symptoms if you mean reactive hypoglycemia there are usually no symptoms hence there is no disease hence the dietary recommendations are the same as for anyone else if a patient complains of dizziness faintness sweating palpitations etc reliably several hours after a big meal the recommendations are obvious eat smaller meals   \n",
       "1                                                                                                                                                                                                                                                                                                                                                                                                                                                                                                                                                                                                                                                                                                                                                                                                                                                                                                                                                                                                                                                                                                                                                                                                                                                                                                                                                                                                                                                                                                                                                                                                                                                                                                                                                                                                                                                                                                                                                                                                                        check out the diabetic mailing list a knowledgable helpful friendly voluminous bunch send email to listserv pccvm bitnet with this line in the body subscribe diabetic your name here also the vote for misc health diabetes a newsgroup for general discussion of diabetes is currently underway and will close on april from the nd cfv posted to news announce newgroups news groups and sci med message q jshinn v rodan uu net   \n",
       "2                                                                                                                                                                                                                                                                                                                                                                                                                                                                                                                                                                                                                                                                                                                                                                                                                                                                                                                                                                                                                                                                                                                                                                                                                                                                                                                                                      serum actually but plasma numbers are the same whole blood numbers for humans tend to be somewhat lower roughly to percent lower i find the following range for whole blood in fundamentals of clinical chemistry n w teitz editor w b saunders human glucose whole blood fasting levels mg dl indeed they do measure whole blood levels although they are not as accurate as a serum test done in a laboratory one problem is that cells in the sample continue to metabolize glucose after the sample is drawn reducing the apparent level according to teitz however results compare reasonably well with laboratory results although values below mg dl tend to be lower with strip tests whereas values above mg dl can be very erratic as stated above whole blood levels tend to be roughly to percent lower than serum levels sample freshness will affect whole blood levels however i don t believe there is a well defined conversion factor since cell metabolism will affect samples to varying degrees the serum plasma test is much preferred for any except general ball park testing   \n",
       "3                                                                                                                                                                                                                                                                                                                                                                                                                                                                                                                                                                                                                                                                                                                                                                                                                                                                                                                                                                                                                                                                                                                                                                                                                                                                                                                                                                                                                                                                                                                                                                                                                                                                                                                                                                                                                                                           my blood pressure soars my heart pounds and i can t get to sleep for the life of me feels about like i just drank cups of coffee i avoid it and beet sugar flavor enhancers beet powder and whatever other names it may go under basicaly i read the ingredients and if i don t know what they all are i don t buy the product msg sensitivity is definately real relativity schmelativity richard h clark my opinions are my own and lunatik watch for me on the road ought to be yours but under it s not my fault i voted perot no circumstances are they richard tis com those of my company   \n",
       "4                                                                                                                                                                                                                                                                                                                                                                                                                                                                                                                                                                                                                                                                                                                                                                                                                                                                                                                                                                                                                                                                                                                                                                                                                                                                                                                                                                                                                                                                                                                                                                                   a can anyone tell me if a bloodcount of when diagnosed as hypoglycemic is a dangerous i e indicates a possible pancreatic problem one dr says no the a other not his specialty says the first is negligent and that another blood a test should be done also what is a good diet what has worked for a hypo a glycemic tia a a a anthony anello a fermilab a batavia illinois once you have your hypoglycemia confirmed through the proper channels you might consider ther following chelated manganese mg day chelated chromium mcg day increase protein through foods or supplements avoid supplements foods high in potassium calcium zinc avoid vit c supplements in excess of mg avoid honey and foods high in simple sugars enjoy breads cereals grains discuss the above with your health practitioner for compatibility with your body chemistry and safety ron   \n",
       "5  jb jb ron roth recommends once you have your hypoglycemia confirmed through the jb proper channels you might consider the following jb diet omitted jb jb ron what do you consider to be proper channels this sounds suspiciously i m glad it caught your eye that s the purpose of this forum to educate those eager to learn about the facts of life that phrase is used to bridle the frenzy of all the would be respondents who otherwise would feel being left out as the proper authorities to be consulted on that topic in short it means absolutely nothing jb like a blood chemistry glucose tolerance and the like suddenly chemistry jb exists you know perfectly well that this person can be saved needless trouble jb and expense with simple muscle testing and hair analysis to diagnose no jb confirm any aberrant physiology but then again maybe that s what you mean muscle testing and hair analysis eh so what other fascinating space age medical techniques do you use do you sit under a pyramid over night as well to shrink your brain back to normal after a mind expanding day at your save the earth clinic jb were you able to understand dick king s post that of diseases is not thy jb evaluate the statistic you cited from the new england journal of medicine coul once i figure out what you are trying to say i ll still have to wrestle with the possibility of you conceivably not being able to understand my answer to your question jb ron have you ever thought about why you never post in misc health alterna jb tive and insist instead upon insinuating your untrained non medical often jb delusional notions of health and disease into this forum i suspect from your jb apparent anger toward mds and heteropathic medicine that there may be an you little psychoanalytical rascal you got me all figured out ja jb underlying father problem of course i can confirm this by surrogate muscle jb testing one of my patients while they ponder my theory to see if one of their jb previously weak indicator muscles strengthens or do you have reservations jb about my unique methods of diagnosis jb jb john badanes dc ca jb romdas uclink berkeley edu oh man when are you going to start teaching all this stuff i ll bet everyone on this net must be absolutely dying to learn more about going beyond spinal adjustments and head straight for the mind for some freudian subluxation ron   \n",
       "6                                                                                                                                                                                                                                                                                                                                                                                                                                                                                                                                                                                                                                                  um i hate to break this to you but article numbers are unique per site they have no meaning on other machines you mean the responses some of which pointed to double blind tests which show no such chinese restaurant effect unique to msg it s elicited by the placebo as well like youself someone who can read a scientific paper and apparently come away from it with bizarrely cracked ideas which have nothing to do with the use of this substance in human nutrition no it s undisputed in the literature that glutamate is an amino acid which is an excitatory neurotransmitter there is also evidence that excessive release of glutamate may be involved in the pathology of certain conditions like stroke drowning and lou gehrig s disease just to name a few this is a completely different issue than the use of this ubiquitous amino acid in foods people are not receiving intra ventricular injections of glutamate i don t know about premier but it s certainly an important one sez you such an effect in humans has not been demonstrated in any controlled studies infant mice and other models are useful as far as they go but they re not relevant to the matter at hand which is not to say that i favor its use in things like baby food a patently ridiculous use of the additive but we have no reason to believe that msg in the diet effects humans adversely wrong do you know how much aspartate or phenylalanine is in a soft drink milligrams worth compare that to a glass of milk do you know how much glutamate is present in most protein containing foods compared to that added by the use of msg notice the subtle covering of her ass here anyone with a sensitivity we re disputing the size of that class impeccable there most certainly is a dispute   \n",
       "7                                                                                                                                                                                                                                                                                                                                                                                                                                                                                                                                                                                                                                                                                                                                                                                                                                                                                                                                                                                                                                                                                                                                                                                                                                                                                                                                                                                                                                                                                                                                                                                                                                                                                                                                                                                                                                                                                                                                                                                                                                                                                                  can anyone tell me if a bloodcount of when diagnosed as hypoglycemic is dangerous i e indicates a possible pancreatic problem one dr says no the other not his specialty says the first is negligent and that another blood test should be done also what is a good diet what has worked for a hypo glycemic tia anthony anello fermilab batavia illinois   \n",
       "8                                                                                                                                                                                                                                                                                                                                                                                                                                                                                                                                                                                                                                                                                                                                                                                                                                                                                                                                                                                                                                                                                                                                                                                                                                                                                                                                                                                                                                                                                                                                                                                                                                                                                                                                                                                                                                                                                                                                                                                       it s worse than that there is no such thing as a double blind study on the effects of msg by virtue of the fact that msg changes the taste of food in a characteristic way that is detectable by the subject and that cannot be duplicated by a placebo common you can easily disguise to flavor of msg by putting it in a capsule then the study becomes a double blind of msg capsules against control capsules containing exactly the same contents minus the msg   \n",
       "9                                                                                                                                                                                                                                                                                                                                                                                                                                                                                                                                                                                                                                                                                                                                                                                                                                                                                                                                                                                                                                                                                                                                                                                                                                                                                                                                                                                                                                                                                                                                                                                                                                                                                                                                                                                                                                                                                                                                                                                                                                                                                                                                                                                                                                                                                are you sure g is the right number as far as i know pilots are blackout in dives that exceed g g g seems to be out of human tolerance would anybody clarify this please lan   \n",
       "\n",
       "    category     score  \n",
       "0    sci.med  0.335596  \n",
       "1    sci.med  0.338126  \n",
       "2    sci.med  0.349964  \n",
       "3    sci.med  0.353059  \n",
       "4    sci.med  0.366020  \n",
       "5    sci.med  0.387805  \n",
       "6    sci.med  0.405019  \n",
       "7    sci.med  0.444681  \n",
       "8    sci.med  0.501760  \n",
       "9  sci.space  0.551272  "
      ]
     },
     "execution_count": 87,
     "metadata": {},
     "output_type": "execute_result"
    }
   ],
   "source": [
    "pd.set_option('display.max_rows', None)\n",
    "pd.set_option('display.max_columns', None)\n",
    "pd.set_option('display.max_colwidth', None)\n",
    "pd.DataFrame(res[0])"
   ]
  },
  {
   "cell_type": "markdown",
   "metadata": {},
   "source": [
    "## Test Data Prediction"
   ]
  },
  {
   "cell_type": "code",
   "execution_count": 88,
   "metadata": {},
   "outputs": [],
   "source": [
    "\n",
    "\n",
    "\n",
    "def test_predict(query,mappings=mappings):\n",
    "    cleaned_query= clean(query)\n",
    "    query_embedding=predict_embeddings(cleaned_query)\n",
    "    faiss.normalize_L2(query_embedding)\n",
    "    D, I = index.search(query_embedding, 5) # d is the distance and I is the index number \n",
    "    return most_frequent([mappings[id_] for id_ in I[0]])[0][0]\n",
    "\n",
    "\n",
    "test[\"predict\"]=test[\"cleaned_data\"].astype(str).apply(lambda x:test_predict(x))"
   ]
  },
  {
   "cell_type": "markdown",
   "metadata": {},
   "source": [
    "# time taken for flat index"
   ]
  },
  {
   "cell_type": "code",
   "execution_count": 89,
   "metadata": {},
   "outputs": [
    {
     "name": "stdout",
     "output_type": "stream",
     "text": [
      "comp.graphics 0.017541885375976562\n"
     ]
    }
   ],
   "source": [
    "start=time.time()\n",
    "print(test_predict(\"intel graphics card\",mappings),time.time()-start)"
   ]
  },
  {
   "cell_type": "markdown",
   "metadata": {},
   "source": [
    "# Evaluate flat index results"
   ]
  },
  {
   "cell_type": "code",
   "execution_count": 90,
   "metadata": {},
   "outputs": [
    {
     "name": "stdout",
     "output_type": "stream",
     "text": [
      "                        precision    recall  f1-score   support\n",
      "\n",
      "         comp.graphics       0.87      0.82      0.85       114\n",
      " comp.sys.mac.hardware       0.93      0.89      0.91       112\n",
      "      rec.sport.hockey       0.97      0.95      0.96       118\n",
      "             sci.crypt       0.93      0.92      0.93       117\n",
      "               sci.med       0.95      0.91      0.93       117\n",
      "             sci.space       0.88      0.91      0.89       116\n",
      "soc.religion.christian       0.86      0.97      0.91       119\n",
      "\n",
      "              accuracy                           0.91       813\n",
      "             macro avg       0.91      0.91      0.91       813\n",
      "          weighted avg       0.91      0.91      0.91       813\n",
      "\n"
     ]
    }
   ],
   "source": [
    "print(classification_report(test['title'],test[\"predict\"]))\n",
    "cm = confusion_matrix(test['title'],test[\"predict\"])"
   ]
  },
  {
   "cell_type": "code",
   "execution_count": 91,
   "metadata": {},
   "outputs": [
    {
     "data": {
      "text/plain": [
       "<Axes: >"
      ]
     },
     "execution_count": 91,
     "metadata": {},
     "output_type": "execute_result"
    },
    {
     "data": {
      "image/png": "[encoded data removed]",
      "text/plain": [
       "<Figure size 640x480 with 2 Axes>"
      ]
     },
     "metadata": {},
     "output_type": "display_data"
    }
   ],
   "source": [
    "\n",
    "labels = ['sci.space','comp.sys.mac.hardware','soc.religion.christian','sci.med','rec.sport.hockey','sci.crypt','alt.atheism','comp.graphics']\n",
    "sns.heatmap(cm, fmt='d', annot=True,\n",
    "     # set all to white\n",
    "            linewidths=0.5, linecolor='w',  # draw black grid lines\n",
    "            xticklabels=labels,yticklabels=labels)                     # disable colorbar\n",
    "\n",
    "# # re-enable outer spines\n",
    "# sns.despine(left=False, right=False, top=False, bottom=False)"
   ]
  },
  {
   "cell_type": "code",
   "execution_count": 92,
   "metadata": {},
   "outputs": [
    {
     "name": "stdout",
     "output_type": "stream",
     "text": [
      "Test Accuracy Score 0.9114391143911439\n"
     ]
    }
   ],
   "source": [
    "acc_score = accuracy_score(test['title'],test[\"predict\"])\n",
    "print(\"Test Accuracy Score\",acc_score)"
   ]
  },
  {
   "cell_type": "code",
   "execution_count": 93,
   "metadata": {},
   "outputs": [
    {
     "name": "stdout",
     "output_type": "stream",
     "text": [
      "f1 score 0.9110166876133035\n"
     ]
    }
   ],
   "source": [
    "from sklearn.metrics import f1_score\n",
    "print(\"f1 score\",f1_score(test['title'],test[\"predict\"],average=\"macro\"))"
   ]
  },
  {
   "cell_type": "markdown",
   "metadata": {},
   "source": [
    "# Experimenting with ivfflat index"
   ]
  },
  {
   "cell_type": "code",
   "execution_count": 94,
   "metadata": {},
   "outputs": [
    {
     "name": "stdout",
     "output_type": "stream",
     "text": [
      "True\n",
      "3251\n"
     ]
    }
   ],
   "source": [
    "# second index \n",
    "\n",
    "\n",
    "#save the index once its created\n",
    "def save_index(index):\n",
    "    path = os.path.join(\"./data/\",\"news_ivf_flat\")\n",
    "    faiss.write_index(index, path)\n",
    "\n",
    "\n",
    "nlist = 5  # number of clusters\n",
    "dimension=384 # embeddings dimension\n",
    "\n",
    "# we have used flat Index and with Inner product\n",
    "def create_index_ivf(mappings,samples,nlist=nlist,dimension=dimension):\n",
    "    quantiser = faiss.IndexFlatL2(dimension)  \n",
    "    index = faiss.IndexIVFFlat(quantiser, dimension, nlist,   faiss.METRIC_L2)\n",
    "    index.train(samples)\n",
    "    index.add(samples)   # add the vectors and update the index\n",
    "    print(index.is_trained)  # True\n",
    "    print(index.ntotal)  \n",
    "    index.add_with_ids(samples,np.array(list(mappings.keys())))\n",
    "    save_index(index)\n",
    "    return\n",
    "\n",
    "\n",
    "create_index_ivf(mappings=mappings,samples=samples)"
   ]
  },
  {
   "cell_type": "markdown",
   "metadata": {},
   "source": [
    "# Reading and searching inside ivfflat index"
   ]
  },
  {
   "cell_type": "code",
   "execution_count": 95,
   "metadata": {},
   "outputs": [],
   "source": [
    "\n",
    "\n",
    "\n",
    "#read the index\n",
    "index = faiss.read_index(\"./data/news_ivf_flat\")\n",
    "\n",
    "# embeddings for query\n",
    "def predict_embeddings(query):\n",
    "    query_embedding=model.encode(query)\n",
    "    query_embedding=np.asarray([query_embedding],dtype=\"float32\")\n",
    "    return query_embedding\n",
    "    \n",
    "\n",
    "#predict for given query\n",
    "def predict(query,mappings):\n",
    "    cleaned_query= clean(query)\n",
    "    query_embedding=predict_embeddings(cleaned_query)\n",
    "    faiss.normalize_L2(query_embedding)\n",
    "    D, I = index.search(query_embedding, 10) # d is the distance and I is the index number \n",
    "    D=[np.unique(D)]\n",
    "    I=[np.unique(I)]\n",
    "\n",
    "    for values in I:\n",
    "        for distance in D:\n",
    "            details= {'cleaned_text':train.iloc[values][\"cleaned_data\"],\n",
    "            'category':train.iloc[values][\"title\"],\n",
    "            'score':distance\n",
    "            }\n",
    "            print(\"===============================================\")\n",
    "            print(pd.DataFrame(details))\n",
    "            print(\"===============================================\")\n",
    "    return most_frequent([mappings[id_] for id_ in I[0]])"
   ]
  },
  {
   "cell_type": "code",
   "execution_count": 96,
   "metadata": {},
   "outputs": [
    {
     "name": "stdout",
     "output_type": "stream",
     "text": [
      "===============================================\n",
      "                                                                                                                                                                                                                                                                                                                                                                                                                                                                                                                                                                                                                                                                                                                                                                                                                                                                                                                                                                                                                                                                                                                                                                                                                                                                                                                                                                                                                                                                                                                                                                                                                                                                                                                                                                                                                                                                  cleaned_text  \\\n",
      "98                                                                                                                                                                                                                                                                                                                                                                                                                                                                                                                                                                                                                                                                                                                                                                                                                                                                                                                                                                                                                                                                                                                                                                                                                                                                                                                                                                                                                                                                                                                                                                                                                                                                                                     the national air space museum has both the prototype and the film when i was there some years ago they had the prototype on display and the film continuously repeating   \n",
      "203   archive name space launchers last modified date orbital and planetary launch services the following data comes from international reference guide to space launch systems by steven j isakowitz edition notes unless otherwise specified leo and polar paylaods are for a nm orbit reliablity data includes launches through dec reliabity for a familiy of vehicles includes launches by types no longer built when applicable prices are in millions of us and are subject to change only operational vehicle families are included individual vehicles which have not yet flown are marked by an asterisk if a vehicle had first launch after publication of my data it may still be marked with an asterisk vehicle payload kg lbs reliability price launch site nation leo polar gto lat long ariane kourou esa n w ar m ar p m ar p m ar l m ar lp m ar l m ar m nm atlas cape canaveral usa n w atlas e m vandeberg afb n w atlas i m atlas ii m atlas iia m atlas iias m delta cape canaveral usa vandenberg afb delta m delta m energia baikonur russia n e energia m h series tangeshima japan n e h m kosmos plestek russia n e kosmos kapustin yar km orbit inclination n e long march jiquan slc china n e cz d m xichang slc n e taiyuan slc cz c m n e cz e m cz e ho cz m cz a m cz m pegasus taurus peg b l usa taur canaveral pegasus m or vandenberg taurus m proton baikonour russia proton m scout vandenberg afb usa wallops ff scout g m n w san marco s e enhanced scout m shavit palmachim afb israel n shavit m space shuttle kennedy space usa center shuttle srb m n w fy shuttle asrm slv shar center india km km polar n e aslv m pslv m gslv m titan cape canaveral usa vandenberg titan ii m titan iii m titan iv srm m m titan iv srmu m vostok baikonur russia km plesetsk vostok m soyuz m molniya kg lbs in m highly eliptical orbit   \n",
      "718                                                                                                                                                                                                                                                                                                                                                                                                                                                                                                                                                                                                                                                                                                                                                                                                                                                                                                                                                                                                                                                                                                                                                                                                                                                                            this was known as journey to the far side of the sun in the united states and as doppelganger in the u k it was produced by the great team of gerry and sylvia anderson whose science was usually a bit better than this it may have been their first production using live actors they were better known for their technophilic puppet shows such as supercar stingray and thunderbirds later they went on to do more live action sf series ufo and space the astronomy was lousy but the lifting body spacecraft vtol airliners and mighty portugese launch complex were wonderful to look at   \n",
      "976                                                                                                                                                                                                                                                                                                                                                                                                                                                                                                                                                                                                                                                                                                                                                                                                                                                                                                                                                                                                                                                                                                                                                                                                                                                                                                                                                                                                                                                                                                                                                                                                           i was wondering if anyone knows where i can get more information about the graphics in the wingcommander series and the realspace system they use i think it s really awesome and wouldn t mind being able to use similar features in programs thanks in advance   \n",
      "1156                                                                                                                                                                                                                                                                                                                                                                                                                             let s see these aren t in a strict sense amateur rockets that term denotes rockets the engines of which are constructed by the user the rockets you describe are called hpr or high power rockets to distinguish them from smaller model rockets they use factory made ammonium perchlorate composite propellants in phenolic plastic engines with graphite nozzles the engines are classified by impulse a d engine for example can have no more than newton seconds of impulse an f engine can have no more than ns each letter corresponds to a doubling of the maximum impulse so far engines up to size o are available pretty much off the shelf engines of size h and above are shipped as class b explosives and as such are controlled engines of size f and below are shipped as class c explosives and are not as controlled class f engines btw are not hpr engines but model rocket engines class g engines go in and out of legal limbo there is an hpr society the tripoli rocket society i believe which holds events at various sites throughout the year with all legalities faa waiver included taken care of the national association of rocketry is more concerned with engines below h though it is involved in hpr as well these societies certify users of hpr rockets and companies will not sell to uncertified individuals bottom line it s legit i suggest you send for a catalog but forget the dynamite will ya   \n",
      "\n",
      "           category     score  \n",
      "98        sci.space  1.305116  \n",
      "203       sci.space  1.356987  \n",
      "718       sci.space  1.433473  \n",
      "976   comp.graphics  1.488756  \n",
      "1156      sci.space  1.490236  \n",
      "===============================================\n"
     ]
    }
   ],
   "source": [
    "res=predict(query=\"'I was wondering if anyone out there could enlighten me on this car I saw\\nthe other day. It was a 2-door sports car, looked to be from the late 60s/\\nearly 70s. It was called a Bricklin. The doors were really small. In addition,\\nthe front bumper was separate from the rest of the body. This is \\nall I know. If anyone can tellme a model name, engine specs, years\\nof production, where this car is made, history, or whatever info you\\nhave on this funky looking car, please e-mail.\",mappings=mappings)"
   ]
  },
  {
   "cell_type": "code",
   "execution_count": 97,
   "metadata": {},
   "outputs": [],
   "source": [
    "def test_predict_ivf(query,mappings=mappings):\n",
    "    cleaned_query= clean(query)\n",
    "    query_embedding=predict_embeddings(cleaned_query)\n",
    "    faiss.normalize_L2(query_embedding)\n",
    "    D, I = index.search(query_embedding, 5) # d is the distance and I is the index number \n",
    "    return most_frequent([mappings[id_] for id_ in I[0]])[0][0]\n",
    "\n",
    "\n",
    "test[\"predict_ivf\"]=test[\"cleaned_data\"].astype(str).apply(lambda x:test_predict_ivf(x))"
   ]
  },
  {
   "cell_type": "markdown",
   "metadata": {},
   "source": [
    "## time taken for ivfflat"
   ]
  },
  {
   "cell_type": "code",
   "execution_count": 98,
   "metadata": {},
   "outputs": [
    {
     "name": "stdout",
     "output_type": "stream",
     "text": [
      "comp.sys.mac.hardware 0.01819300651550293\n"
     ]
    }
   ],
   "source": [
    "start=time.time()\n",
    "print(test_predict_ivf(\"intel graphics\",mappings),time.time()-start)"
   ]
  },
  {
   "cell_type": "markdown",
   "metadata": {},
   "source": [
    "## evaluate ivfflat results"
   ]
  },
  {
   "cell_type": "code",
   "execution_count": 99,
   "metadata": {},
   "outputs": [
    {
     "name": "stdout",
     "output_type": "stream",
     "text": [
      "                        precision    recall  f1-score   support\n",
      "\n",
      "         comp.graphics       0.81      0.84      0.82       114\n",
      " comp.sys.mac.hardware       0.90      0.84      0.87       112\n",
      "      rec.sport.hockey       0.90      0.93      0.92       118\n",
      "             sci.crypt       0.93      0.92      0.93       117\n",
      "               sci.med       0.92      0.84      0.88       117\n",
      "             sci.space       0.88      0.88      0.88       116\n",
      "soc.religion.christian       0.91      0.98      0.94       119\n",
      "\n",
      "              accuracy                           0.89       813\n",
      "             macro avg       0.89      0.89      0.89       813\n",
      "          weighted avg       0.89      0.89      0.89       813\n",
      "\n"
     ]
    },
    {
     "data": {
      "text/plain": [
       "<Axes: >"
      ]
     },
     "execution_count": 99,
     "metadata": {},
     "output_type": "execute_result"
    },
    {
     "data": {
      "image/png": "[encoded data removed]",
      "text/plain": [
       "<Figure size 640x480 with 2 Axes>"
      ]
     },
     "metadata": {},
     "output_type": "display_data"
    }
   ],
   "source": [
    "\n",
    "print(classification_report(test['title'],test[\"predict_ivf\"]))\n",
    "cm2 = confusion_matrix(test['title'],test[\"predict_ivf\"])\n",
    "labels = ['comp.graphics','comp.sys.mac.hardware','sci.med','sci.space','soc.religion.christian']\n",
    "sns.heatmap(cm2, fmt='d', annot=True,\n",
    "     # set all to white\n",
    "            linewidths=0.5, linecolor='w',  # draw black grid lines\n",
    "            xticklabels=labels,yticklabels=labels)   "
   ]
  },
  {
   "cell_type": "code",
   "execution_count": 100,
   "metadata": {},
   "outputs": [
    {
     "name": "stdout",
     "output_type": "stream",
     "text": [
      "                        precision    recall  f1-score   support\n",
      "\n",
      "         comp.graphics       0.81      0.84      0.82       114\n",
      " comp.sys.mac.hardware       0.90      0.84      0.87       112\n",
      "      rec.sport.hockey       0.90      0.93      0.92       118\n",
      "             sci.crypt       0.93      0.92      0.93       117\n",
      "               sci.med       0.92      0.84      0.88       117\n",
      "             sci.space       0.88      0.88      0.88       116\n",
      "soc.religion.christian       0.91      0.98      0.94       119\n",
      "\n",
      "              accuracy                           0.89       813\n",
      "             macro avg       0.89      0.89      0.89       813\n",
      "          weighted avg       0.89      0.89      0.89       813\n",
      "\n"
     ]
    }
   ],
   "source": [
    "print(classification_report(test['title'],test[\"predict_ivf\"]))\n",
    "cm2 = confusion_matrix(test['title'],test[\"predict_ivf\"])"
   ]
  },
  {
   "cell_type": "code",
   "execution_count": 101,
   "metadata": {},
   "outputs": [
    {
     "name": "stdout",
     "output_type": "stream",
     "text": [
      "Test Accuracy Score 0.8917589175891759\n"
     ]
    }
   ],
   "source": [
    "acc_score = accuracy_score(test['title'],test[\"predict_ivf\"])\n",
    "print(\"Test Accuracy Score\",acc_score)"
   ]
  },
  {
   "cell_type": "code",
   "execution_count": 102,
   "metadata": {},
   "outputs": [
    {
     "name": "stdout",
     "output_type": "stream",
     "text": [
      "Test fl Score 0.8908526757621126\n"
     ]
    }
   ],
   "source": [
    "fl_score = f1_score(test['title'],test[\"predict_ivf\"],average=\"macro\")\n",
    "print(\"Test fl Score\",fl_score)"
   ]
  },
  {
   "cell_type": "code",
   "execution_count": null,
   "metadata": {},
   "outputs": [],
   "source": []
  }
 ],
 "metadata": {
  "kernelspec": {
   "display_name": "env_38",
   "language": "python",
   "name": "python3"
  },
  "language_info": {
   "codemirror_mode": {
    "name": "ipython",
    "version": 3
   },
   "file_extension": ".py",
   "mimetype": "text/x-python",
   "name": "python",
   "nbconvert_exporter": "python",
   "pygments_lexer": "ipython3",
   "version": "3.8.18"
  },
  "orig_nbformat": 4
 },
 "nbformat": 4,
 "nbformat_minor": 2
}
