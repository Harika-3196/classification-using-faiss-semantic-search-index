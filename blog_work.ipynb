{
 "cells": [
  {
   "cell_type": "markdown",
   "metadata": {},
   "source": [
    "Load Libraries"
   ]
  },
  {
   "cell_type": "code",
   "execution_count": 1,
   "metadata": {},
   "outputs": [],
   "source": [
    "import os\n",
    "import time\n",
    "import faiss\n",
    "import string\n",
    "import pickle\n",
    "import numpy as np\n",
    "import pandas as pd\n",
    "import seaborn as sns\n",
    "\n",
    "from typing import List\n",
    "from collections import Counter\n",
    "\n",
    "from sklearn.metrics import accuracy_score\n",
    "\n",
    "from sklearn.model_selection import train_test_split\n",
    "from sentence_transformers import SentenceTransformer\n",
    "from sklearn.metrics import classification_report,confusion_matrix\n",
    "\n",
    "# pd.set_option('display.max_rows', None)\n",
    "# pd.set_option('display.max_columns', None)\n",
    "# pd.set_option('display.max_colwidth', None)"
   ]
  },
  {
   "cell_type": "code",
   "execution_count": 2,
   "metadata": {},
   "outputs": [],
   "source": [
    "df=pd.read_csv(\"./data/20_newsgroup.csv\")\n",
    "df=df[[\"text\",\"title\"]]"
   ]
  },
  {
   "cell_type": "code",
   "execution_count": 3,
   "metadata": {},
   "outputs": [
    {
     "data": {
      "text/html": [
       "<div>\n",
       "<style scoped>\n",
       "    .dataframe tbody tr th:only-of-type {\n",
       "        vertical-align: middle;\n",
       "    }\n",
       "\n",
       "    .dataframe tbody tr th {\n",
       "        vertical-align: top;\n",
       "    }\n",
       "\n",
       "    .dataframe thead th {\n",
       "        text-align: right;\n",
       "    }\n",
       "</style>\n",
       "<table border=\"1\" class=\"dataframe\">\n",
       "  <thead>\n",
       "    <tr style=\"text-align: right;\">\n",
       "      <th></th>\n",
       "      <th>text</th>\n",
       "      <th>title</th>\n",
       "    </tr>\n",
       "  </thead>\n",
       "  <tbody>\n",
       "    <tr>\n",
       "      <th>7017</th>\n",
       "      <td>\\nGo-Video machines used in HQ2 mode will copy...</td>\n",
       "      <td>sci.electronics</td>\n",
       "    </tr>\n",
       "    <tr>\n",
       "      <th>4302</th>\n",
       "      <td>Are there any Workspace Managers out there for...</td>\n",
       "      <td>comp.os.ms-windows.misc</td>\n",
       "    </tr>\n",
       "    <tr>\n",
       "      <th>10670</th>\n",
       "      <td>ri\\n\\n\\n\\nI do agree with you, in a way.  The ...</td>\n",
       "      <td>talk.politics.misc</td>\n",
       "    </tr>\n",
       "    <tr>\n",
       "      <th>6865</th>\n",
       "      <td>I am making a search for a CAD program that do...</td>\n",
       "      <td>sci.electronics</td>\n",
       "    </tr>\n",
       "    <tr>\n",
       "      <th>3906</th>\n",
       "      <td>\\n\\tExcept for the fact that it's superior in ...</td>\n",
       "      <td>comp.sys.ibm.pc.hardware</td>\n",
       "    </tr>\n",
       "  </tbody>\n",
       "</table>\n",
       "</div>"
      ],
      "text/plain": [
       "                                                    text  \\\n",
       "7017   \\nGo-Video machines used in HQ2 mode will copy...   \n",
       "4302   Are there any Workspace Managers out there for...   \n",
       "10670  ri\\n\\n\\n\\nI do agree with you, in a way.  The ...   \n",
       "6865   I am making a search for a CAD program that do...   \n",
       "3906   \\n\\tExcept for the fact that it's superior in ...   \n",
       "\n",
       "                          title  \n",
       "7017            sci.electronics  \n",
       "4302    comp.os.ms-windows.misc  \n",
       "10670        talk.politics.misc  \n",
       "6865            sci.electronics  \n",
       "3906   comp.sys.ibm.pc.hardware  "
      ]
     },
     "execution_count": 3,
     "metadata": {},
     "output_type": "execute_result"
    }
   ],
   "source": [
    "df.sample(5)"
   ]
  },
  {
   "cell_type": "code",
   "execution_count": 4,
   "metadata": {},
   "outputs": [
    {
     "data": {
      "text/plain": [
       "array(['rec.autos', 'comp.sys.mac.hardware', 'comp.graphics', 'sci.space',\n",
       "       'talk.politics.guns', 'sci.med', 'comp.sys.ibm.pc.hardware',\n",
       "       'comp.os.ms-windows.misc', 'rec.motorcycles', 'talk.religion.misc',\n",
       "       'misc.forsale', 'alt.atheism', 'sci.electronics', 'comp.windows.x',\n",
       "       'rec.sport.hockey', 'rec.sport.baseball', 'soc.religion.christian',\n",
       "       'talk.politics.mideast', 'talk.politics.misc', 'sci.crypt'],\n",
       "      dtype=object)"
      ]
     },
     "execution_count": 4,
     "metadata": {},
     "output_type": "execute_result"
    }
   ],
   "source": [
    "df['title'].unique()"
   ]
  },
  {
   "cell_type": "code",
   "execution_count": 5,
   "metadata": {},
   "outputs": [
    {
     "data": {
      "text/plain": [
       "'Hi, can anyone direct me to map type gifs? \\n\\nI am interesting in cartography and would find\\nthese gifs useful.\\n\\ntia,\\n'"
      ]
     },
     "execution_count": 5,
     "metadata": {},
     "output_type": "execute_result"
    }
   ],
   "source": [
    "df[\"text\"].iloc[1500]"
   ]
  },
  {
   "cell_type": "markdown",
   "metadata": {},
   "source": [
    "## selecting few diverse classes for usecase"
   ]
  },
  {
   "cell_type": "code",
   "execution_count": 6,
   "metadata": {},
   "outputs": [],
   "source": [
    "selected=df[df[\"title\"].isin(['sci.space','comp.sys.mac.hardware','soc.religion.christian','comp.graphics','sci.med'])]"
   ]
  },
  {
   "cell_type": "code",
   "execution_count": 7,
   "metadata": {},
   "outputs": [
    {
     "name": "stderr",
     "output_type": "stream",
     "text": [
      "/var/folders/0w/7szmzlg15ljc6n0sn48w0jph0000gq/T/ipykernel_67686/1199455941.py:1: SettingWithCopyWarning: \n",
      "A value is trying to be set on a copy of a slice from a DataFrame\n",
      "\n",
      "See the caveats in the documentation: https://pandas.pydata.org/pandas-docs/stable/user_guide/indexing.html#returning-a-view-versus-a-copy\n",
      "  selected.drop_duplicates(inplace=True)\n"
     ]
    }
   ],
   "source": [
    "selected.drop_duplicates(inplace=True)"
   ]
  },
  {
   "cell_type": "code",
   "execution_count": 8,
   "metadata": {},
   "outputs": [],
   "source": [
    "selected_df=selected.groupby('title').sample(400)\n",
    "selected_df[\"text\"]=selected_df[\"text\"].astype(str)"
   ]
  },
  {
   "cell_type": "code",
   "execution_count": 9,
   "metadata": {},
   "outputs": [
    {
     "data": {
      "text/plain": [
       "2000"
      ]
     },
     "execution_count": 9,
     "metadata": {},
     "output_type": "execute_result"
    }
   ],
   "source": [
    "len(selected_df)"
   ]
  },
  {
   "cell_type": "code",
   "execution_count": 10,
   "metadata": {},
   "outputs": [
    {
     "data": {
      "text/html": [
       "<div>\n",
       "<style scoped>\n",
       "    .dataframe tbody tr th:only-of-type {\n",
       "        vertical-align: middle;\n",
       "    }\n",
       "\n",
       "    .dataframe tbody tr th {\n",
       "        vertical-align: top;\n",
       "    }\n",
       "\n",
       "    .dataframe thead th {\n",
       "        text-align: right;\n",
       "    }\n",
       "</style>\n",
       "<table border=\"1\" class=\"dataframe\">\n",
       "  <thead>\n",
       "    <tr style=\"text-align: right;\">\n",
       "      <th></th>\n",
       "      <th>text</th>\n",
       "      <th>title</th>\n",
       "    </tr>\n",
       "  </thead>\n",
       "  <tbody>\n",
       "    <tr>\n",
       "      <th>9356</th>\n",
       "      <td>LISTOWNER: I have sent this to Mr Anderson pri...</td>\n",
       "      <td>soc.religion.christian</td>\n",
       "    </tr>\n",
       "    <tr>\n",
       "      <th>1154</th>\n",
       "      <td>\\n..\\n\\n\\n\\nHmmm... Sounds vaguely similar to ...</td>\n",
       "      <td>comp.sys.mac.hardware</td>\n",
       "    </tr>\n",
       "    <tr>\n",
       "      <th>2981</th>\n",
       "      <td>\\n\\n\\nI recall that the issue is that fat on t...</td>\n",
       "      <td>sci.med</td>\n",
       "    </tr>\n",
       "    <tr>\n",
       "      <th>795</th>\n",
       "      <td>Does anyone work with the A/ROSE card?\\n\\nWe h...</td>\n",
       "      <td>comp.sys.mac.hardware</td>\n",
       "    </tr>\n",
       "    <tr>\n",
       "      <th>1699</th>\n",
       "      <td>Hi,\\n\\nwell I have opened up a FTP site for ge...</td>\n",
       "      <td>comp.graphics</td>\n",
       "    </tr>\n",
       "  </tbody>\n",
       "</table>\n",
       "</div>"
      ],
      "text/plain": [
       "                                                   text  \\\n",
       "9356  LISTOWNER: I have sent this to Mr Anderson pri...   \n",
       "1154  \\n..\\n\\n\\n\\nHmmm... Sounds vaguely similar to ...   \n",
       "2981  \\n\\n\\nI recall that the issue is that fat on t...   \n",
       "795   Does anyone work with the A/ROSE card?\\n\\nWe h...   \n",
       "1699  Hi,\\n\\nwell I have opened up a FTP site for ge...   \n",
       "\n",
       "                       title  \n",
       "9356  soc.religion.christian  \n",
       "1154   comp.sys.mac.hardware  \n",
       "2981                 sci.med  \n",
       "795    comp.sys.mac.hardware  \n",
       "1699           comp.graphics  "
      ]
     },
     "execution_count": 10,
     "metadata": {},
     "output_type": "execute_result"
    }
   ],
   "source": [
    "selected_df[[\"text\",\"title\"]].sample(5)"
   ]
  },
  {
   "cell_type": "markdown",
   "metadata": {},
   "source": [
    "## Data Cleaning"
   ]
  },
  {
   "cell_type": "code",
   "execution_count": 11,
   "metadata": {},
   "outputs": [],
   "source": [
    "import re\n",
    "\n",
    "def clean(text):\n",
    "    text=text.lower()\n",
    "    url_removed=re.sub(r'https\\S+','',text,flags=re.MULTILINE)\n",
    "    text=re.sub(\"[^a-zA-Z]\",\" \",url_removed)\n",
    "    text=re.sub(\"\\.+\",\" \",text)\n",
    "    text=[word for word in text if word not in string.punctuation]\n",
    "    text=\"\".join(text).strip()\n",
    "    text=re.sub(\"\\s\\s+\", \" \", text)\n",
    "    return \"\".join(text).strip()\n",
    "\n",
    "\n",
    "selected_df[\"cleaned_data\"]=selected_df[\"text\"].apply(lambda x:clean(x) if x!=None else x)"
   ]
  },
  {
   "cell_type": "markdown",
   "metadata": {},
   "source": [
    "## Split into train and test"
   ]
  },
  {
   "cell_type": "code",
   "execution_count": 12,
   "metadata": {},
   "outputs": [],
   "source": [
    "train,test= train_test_split(selected_df,stratify=selected_df[[\"title\"]],test_size=0.2)\n",
    "train.reset_index(drop=True,inplace=True)\n",
    "test.reset_index(drop=True,inplace=True)"
   ]
  },
  {
   "cell_type": "code",
   "execution_count": 13,
   "metadata": {},
   "outputs": [
    {
     "data": {
      "text/plain": [
       "title\n",
       "sci.med                   320\n",
       "comp.graphics             320\n",
       "sci.space                 320\n",
       "comp.sys.mac.hardware     320\n",
       "soc.religion.christian    320\n",
       "Name: count, dtype: int64"
      ]
     },
     "execution_count": 13,
     "metadata": {},
     "output_type": "execute_result"
    }
   ],
   "source": [
    "train['title'].value_counts()"
   ]
  },
  {
   "cell_type": "markdown",
   "metadata": {},
   "source": [
    "## Save the data"
   ]
  },
  {
   "cell_type": "code",
   "execution_count": 14,
   "metadata": {},
   "outputs": [],
   "source": [
    "train.to_csv(\"train_data.csv\",index=False)\n",
    "test.to_csv(\"test_data.csv\",index=False)"
   ]
  },
  {
   "cell_type": "markdown",
   "metadata": {},
   "source": [
    "## Generate Embedding using paralleism"
   ]
  },
  {
   "cell_type": "code",
   "execution_count": 15,
   "metadata": {},
   "outputs": [
    {
     "data": {
      "application/vnd.jupyter.widget-view+json": {
       "model_id": "5355e59e2bac4c51ada94b69541441c2",
       "version_major": 2,
       "version_minor": 0
      },
      "text/plain": [
       "Batches:   0%|          | 0/50 [00:00<?, ?it/s]"
      ]
     },
     "metadata": {},
     "output_type": "display_data"
    },
    {
     "name": "stdout",
     "output_type": "stream",
     "text": [
      "Time taken to encode 1600 items: 68.82\n",
      "(1600, 384)\n"
     ]
    }
   ],
   "source": [
    "model=SentenceTransformer('sentence-transformers/all-MiniLM-L6-v2')\n",
    "train_cleaned_texts = train[\"cleaned_data\"].tolist()\n",
    "train_cleaned_texts = list(map(str, train_cleaned_texts))\n",
    "import time\n",
    "import os\n",
    "\n",
    "def get_embeddings(model, sentences: List[str], parallel: bool = True):\n",
    "    start = time.time()\n",
    "    if parallel:\n",
    "        # Start the multi-process pool on all cores\n",
    "        os.environ[\"TOKENIZERS_PARALLELISM\"] = \"false\"\n",
    "        pool = model.start_multi_process_pool(target_devices=[\"cpu\"] * 5)\n",
    "        embeddings = model.encode_multi_process(sentences, pool, batch_size=16)\n",
    "        model.stop_multi_process_pool(pool)\n",
    "    else:\n",
    "        os.environ[\"TOKENIZERS_PARALLELISM\"] = \"true\"\n",
    "        embeddings = model.encode(\n",
    "            sentences,\n",
    "            batch_size=32,\n",
    "            show_progress_bar=True,\n",
    "            convert_to_tensor=True,\n",
    "        )\n",
    "    print(f\"Time taken to encode {len(sentences)} items: {round(time.time() - start, 2)}\")\n",
    "    return embeddings.detach().numpy()\n",
    "\n",
    "train_embeddings = get_embeddings(model=model, sentences=train_cleaned_texts, parallel=False)\n",
    "print(train_embeddings.shape)\n",
    "\n",
    "#save embeddings of idea texts\n",
    "cleaned_train_texts_embeddings_file = f\"./data/train_embeddings_all_minilm_l6_v2.pkl\"\n",
    "pickle.dump(train_embeddings, open(cleaned_train_texts_embeddings_file, \"wb\"))\n",
    "\n",
    "\n"
   ]
  },
  {
   "cell_type": "markdown",
   "metadata": {},
   "source": [
    "## create mappings"
   ]
  },
  {
   "cell_type": "code",
   "execution_count": 16,
   "metadata": {},
   "outputs": [],
   "source": [
    "#create mappings for index and category this will be later used for faiss\n",
    "train_category_index_mapping=dict(zip(train.index,train.title))\n",
    "with open('./data/train_category_index.pickle', 'wb') as handle:\n",
    "    pickle.dump(train_category_index_mapping, handle, protocol=pickle.HIGHEST_PROTOCOL)\n",
    "\n",
    "#load the mappings file which is used for printing category as output\n",
    "def get_mappings(file_name):\n",
    "    with open(file_name, 'rb') as handle:\n",
    "        category_mapping_dict = pickle.load(handle)\n",
    "    return category_mapping_dict\n",
    "\n",
    "\n",
    "mappings = get_mappings(file_name='./data/train_category_index.pickle')"
   ]
  },
  {
   "cell_type": "markdown",
   "metadata": {},
   "source": [
    "# load embeddings "
   ]
  },
  {
   "cell_type": "code",
   "execution_count": 17,
   "metadata": {},
   "outputs": [],
   "source": [
    "\n",
    "\n",
    "#read the embeddings created at earlier step\n",
    "def read_embeddings(file_name):\n",
    "    cleaned_texts_embeddings_file = file_name\n",
    "    if os.path.exists(cleaned_texts_embeddings_file):\n",
    "        with open(cleaned_texts_embeddings_file, \"rb\") as f:\n",
    "            embeddings = pickle.load(f)\n",
    "    temp1=np.asarray(embeddings,dtype=\"float32\")\n",
    "    return temp1\n",
    "\n",
    "\n",
    "    return\n",
    "\n",
    "samples = read_embeddings(file_name=f\"./data/train_embeddings_all_minilm_l6_v2.pkl\")"
   ]
  },
  {
   "cell_type": "markdown",
   "metadata": {},
   "source": [
    "## Creating and saving index"
   ]
  },
  {
   "cell_type": "code",
   "execution_count": 18,
   "metadata": {},
   "outputs": [],
   "source": [
    "\n",
    "\n",
    "#save the index once its created\n",
    "def save_index(index):\n",
    "    path = os.path.join(\"./data/\",\"news_train_index\")\n",
    "    faiss.write_index(index, path)\n",
    "\n",
    "# we have used flat Index and with Inner product\n",
    "def create_index(mappings,samples):\n",
    "    index = faiss.IndexIDMap(faiss.IndexFlatIP(samples.shape[1]))\n",
    "    faiss.normalize_L2(samples)  # normalise the embedding\n",
    "    #index.train(samples)\n",
    "    index.add_with_ids(samples,np.array(list(mappings.keys())))\n",
    "    save_index(index)\n",
    "create_index(mappings=mappings,samples=samples)"
   ]
  },
  {
   "cell_type": "code",
   "execution_count": 19,
   "metadata": {},
   "outputs": [],
   "source": [
    "# print top 2 categories among top5 nearest neighbours returned from index search\n",
    "train=pd.read_csv(\"train_data.csv\") # using the file from previous notebook created step\n",
    "test=pd.read_csv(\"test_data.csv\")\n",
    "\n",
    "\n"
   ]
  },
  {
   "cell_type": "markdown",
   "metadata": {},
   "source": [
    "## read the index and search for test query in index using predict function"
   ]
  },
  {
   "cell_type": "code",
   "execution_count": 20,
   "metadata": {},
   "outputs": [],
   "source": [
    "\n",
    "\n",
    "\n",
    "#read the index\n",
    "index = faiss.read_index(\"./data/news_train_index\")\n",
    "\n",
    "# embeddings for query\n",
    "def predict_embeddings(query):\n",
    "    query_embedding=model.encode(query)\n",
    "    query_embedding=np.asarray([query_embedding],dtype=\"float32\")\n",
    "    return query_embedding\n",
    "    \n",
    "\n",
    "#predict for given query\n",
    "def predict(query,mappings):\n",
    "    cleaned_query= clean(query)\n",
    "    query_embedding=predict_embeddings(cleaned_query)\n",
    "    faiss.normalize_L2(query_embedding)\n",
    "    D, I = index.search(query_embedding, 5) # d is the distance and I is the index number \n",
    "    res_df=[]\n",
    "    for values in I:\n",
    "        for val in D:\n",
    "            details= {'cleaned_text':list(train.iloc[values][\"cleaned_data\"]),\n",
    "            'category':list(train.iloc[values][\"title\"]),\n",
    "            'score':list(val)\n",
    "            }\n",
    "            res_df.append(details)\n",
    "    return res_df\n"
   ]
  },
  {
   "cell_type": "markdown",
   "metadata": {},
   "source": [
    "## obtain most frequent class or final class"
   ]
  },
  {
   "cell_type": "code",
   "execution_count": 21,
   "metadata": {},
   "outputs": [],
   "source": [
    "\n",
    "def most_frequent(result):\n",
    "    top2 = Counter(result)\n",
    "    return top2.most_common(1)"
   ]
  },
  {
   "cell_type": "code",
   "execution_count": 22,
   "metadata": {},
   "outputs": [],
   "source": [
    "pd.set_option('display.max_rows', None)\n",
    "res=predict(\"cad tools utilises graphics card  The quality of the image depends on the quality of the graphics card.\",mappings=mappings)"
   ]
  },
  {
   "cell_type": "code",
   "execution_count": 23,
   "metadata": {},
   "outputs": [],
   "source": [
    " res=predict(\"glycemic index\",mappings=mappings)"
   ]
  },
  {
   "cell_type": "code",
   "execution_count": 24,
   "metadata": {},
   "outputs": [
    {
     "data": {
      "text/html": [
       "<div>\n",
       "<style scoped>\n",
       "    .dataframe tbody tr th:only-of-type {\n",
       "        vertical-align: middle;\n",
       "    }\n",
       "\n",
       "    .dataframe tbody tr th {\n",
       "        vertical-align: top;\n",
       "    }\n",
       "\n",
       "    .dataframe thead th {\n",
       "        text-align: right;\n",
       "    }\n",
       "</style>\n",
       "<table border=\"1\" class=\"dataframe\">\n",
       "  <thead>\n",
       "    <tr style=\"text-align: right;\">\n",
       "      <th></th>\n",
       "      <th>cleaned_text</th>\n",
       "      <th>category</th>\n",
       "      <th>score</th>\n",
       "    </tr>\n",
       "  </thead>\n",
       "  <tbody>\n",
       "    <tr>\n",
       "      <th>0</th>\n",
       "      <td>a can anyone tell me if a bloodcount of when diagnosed as hypoglycemic is a dangerous i e indicates a possible pancreatic problem one dr says no the a other not his specialty says the first is negligent and that another blood a test should be done also what is a good diet what has worked for a hypo a glycemic tia a a a anthony anello a fermilab a batavia illinois once you have your hypoglycemia confirmed through the proper channels you might consider ther following chelated manganese mg day chelated chromium mcg day increase protein through foods or supplements avoid supplements foods high in potassium calcium zinc avoid vit c supplements in excess of mg avoid honey and foods high in simple sugars enjoy breads cereals grains discuss the above with your health practitioner for compatibility with your body chemistry and safety ron</td>\n",
       "      <td>sci.med</td>\n",
       "      <td>0.444681</td>\n",
       "    </tr>\n",
       "    <tr>\n",
       "      <th>1</th>\n",
       "      <td>are you sure g is the right number as far as i know pilots are blackout in dives that exceed g g g seems to be out of human tolerance would anybody clarify this please lan</td>\n",
       "      <td>sci.space</td>\n",
       "      <td>0.366020</td>\n",
       "    </tr>\n",
       "    <tr>\n",
       "      <th>2</th>\n",
       "      <td>it s worse than that there is no such thing as a double blind study on the effects of msg by virtue of the fact that msg changes the taste of food in a characteristic way that is detectable by the subject and that cannot be duplicated by a placebo common you can easily disguise to flavor of msg by putting it in a capsule then the study becomes a double blind of msg capsules against control capsules containing exactly the same contents minus the msg</td>\n",
       "      <td>sci.med</td>\n",
       "      <td>0.338126</td>\n",
       "    </tr>\n",
       "    <tr>\n",
       "      <th>3</th>\n",
       "      <td>my blood pressure soars my heart pounds and i can t get to sleep for the life of me feels about like i just drank cups of coffee i avoid it and beet sugar flavor enhancers beet powder and whatever other names it may go under basicaly i read the ingredients and if i don t know what they all are i don t buy the product msg sensitivity is definately real relativity schmelativity richard h clark my opinions are my own and lunatik watch for me on the road ought to be yours but under it s not my fault i voted perot no circumstances are they richard tis com those of my company</td>\n",
       "      <td>sci.med</td>\n",
       "      <td>0.335596</td>\n",
       "    </tr>\n",
       "    <tr>\n",
       "      <th>4</th>\n",
       "      <td>glutamate is not an essential amino acid people can survive quite well without ever eating any keith lynch kfl access digex com</td>\n",
       "      <td>sci.med</td>\n",
       "      <td>0.330145</td>\n",
       "    </tr>\n",
       "  </tbody>\n",
       "</table>\n",
       "</div>"
      ],
      "text/plain": [
       "                                                                                                                                                                                                                                                                                                                                                                                                                                                                                                                                                                                                                                                                                                                                                                                                                                                               cleaned_text  \\\n",
       "0  a can anyone tell me if a bloodcount of when diagnosed as hypoglycemic is a dangerous i e indicates a possible pancreatic problem one dr says no the a other not his specialty says the first is negligent and that another blood a test should be done also what is a good diet what has worked for a hypo a glycemic tia a a a anthony anello a fermilab a batavia illinois once you have your hypoglycemia confirmed through the proper channels you might consider ther following chelated manganese mg day chelated chromium mcg day increase protein through foods or supplements avoid supplements foods high in potassium calcium zinc avoid vit c supplements in excess of mg avoid honey and foods high in simple sugars enjoy breads cereals grains discuss the above with your health practitioner for compatibility with your body chemistry and safety ron   \n",
       "1                                                                                                                                                                                                                                                                                                                                                                                                                                                                                                                                                                                                                                                                                               are you sure g is the right number as far as i know pilots are blackout in dives that exceed g g g seems to be out of human tolerance would anybody clarify this please lan   \n",
       "2                                                                                                                                                                                                                                                                                                                                                                                                      it s worse than that there is no such thing as a double blind study on the effects of msg by virtue of the fact that msg changes the taste of food in a characteristic way that is detectable by the subject and that cannot be duplicated by a placebo common you can easily disguise to flavor of msg by putting it in a capsule then the study becomes a double blind of msg capsules against control capsules containing exactly the same contents minus the msg   \n",
       "3                                                                                                                                                                                                                                                                          my blood pressure soars my heart pounds and i can t get to sleep for the life of me feels about like i just drank cups of coffee i avoid it and beet sugar flavor enhancers beet powder and whatever other names it may go under basicaly i read the ingredients and if i don t know what they all are i don t buy the product msg sensitivity is definately real relativity schmelativity richard h clark my opinions are my own and lunatik watch for me on the road ought to be yours but under it s not my fault i voted perot no circumstances are they richard tis com those of my company   \n",
       "4                                                                                                                                                                                                                                                                                                                                                                                                                                                                                                                                                                                                                                                                                                                                           glutamate is not an essential amino acid people can survive quite well without ever eating any keith lynch kfl access digex com   \n",
       "\n",
       "    category     score  \n",
       "0    sci.med  0.444681  \n",
       "1  sci.space  0.366020  \n",
       "2    sci.med  0.338126  \n",
       "3    sci.med  0.335596  \n",
       "4    sci.med  0.330145  "
      ]
     },
     "execution_count": 24,
     "metadata": {},
     "output_type": "execute_result"
    }
   ],
   "source": [
    "pd.set_option('display.max_rows', None)\n",
    "pd.set_option('display.max_columns', None)\n",
    "pd.set_option('display.max_colwidth', None)\n",
    "pd.DataFrame(res[0])"
   ]
  },
  {
   "cell_type": "markdown",
   "metadata": {},
   "source": [
    "## Test Data Prediction"
   ]
  },
  {
   "cell_type": "code",
   "execution_count": 25,
   "metadata": {},
   "outputs": [],
   "source": [
    "\n",
    "\n",
    "\n",
    "def test_predict(query,mappings=mappings):\n",
    "    cleaned_query= clean(query)\n",
    "    query_embedding=predict_embeddings(cleaned_query)\n",
    "    faiss.normalize_L2(query_embedding)\n",
    "    D, I = index.search(query_embedding, 5) # d is the distance and I is the index number \n",
    "    return most_frequent([mappings[id_] for id_ in I[0]])[0][0]\n",
    "\n",
    "\n",
    "test[\"predict\"]=test[\"cleaned_data\"].astype(str).apply(lambda x:test_predict(x))"
   ]
  },
  {
   "cell_type": "markdown",
   "metadata": {},
   "source": [
    "# time taken for flat index"
   ]
  },
  {
   "cell_type": "code",
   "execution_count": 26,
   "metadata": {},
   "outputs": [
    {
     "name": "stdout",
     "output_type": "stream",
     "text": [
      "comp.sys.mac.hardware 0.01577591896057129\n"
     ]
    }
   ],
   "source": [
    "start=time.time()\n",
    "print(test_predict(\"intel graphics card\",mappings),time.time()-start)"
   ]
  },
  {
   "cell_type": "markdown",
   "metadata": {},
   "source": [
    "# Evaluate flat index results"
   ]
  },
  {
   "cell_type": "code",
   "execution_count": 27,
   "metadata": {},
   "outputs": [
    {
     "name": "stdout",
     "output_type": "stream",
     "text": [
      "                        precision    recall  f1-score   support\n",
      "\n",
      "         comp.graphics       0.87      0.86      0.87        80\n",
      " comp.sys.mac.hardware       0.90      0.91      0.91        80\n",
      "               sci.med       0.91      0.94      0.93        80\n",
      "             sci.space       0.92      0.86      0.89        80\n",
      "soc.religion.christian       0.95      0.99      0.97        80\n",
      "\n",
      "              accuracy                           0.91       400\n",
      "             macro avg       0.91      0.91      0.91       400\n",
      "          weighted avg       0.91      0.91      0.91       400\n",
      "\n"
     ]
    }
   ],
   "source": [
    "print(classification_report(test['title'],test[\"predict\"]))\n",
    "cm = confusion_matrix(test['title'],test[\"predict\"])"
   ]
  },
  {
   "cell_type": "code",
   "execution_count": 28,
   "metadata": {},
   "outputs": [
    {
     "data": {
      "text/plain": [
       "<Axes: >"
      ]
     },
     "execution_count": 28,
     "metadata": {},
     "output_type": "execute_result"
    },
    {
     "data": {
      "image/png": "[encoded data removed]",
      "text/plain": [
       "<Figure size 640x480 with 2 Axes>"
      ]
     },
     "metadata": {},
     "output_type": "display_data"
    }
   ],
   "source": [
    "\n",
    "labels = ['comp.graphics','comp.sys.mac.hardware','sci.med','sci.space','soc.religion.christian']\n",
    "sns.heatmap(cm, fmt='d', annot=True,\n",
    "     # set all to white\n",
    "            linewidths=0.5, linecolor='w',  # draw black grid lines\n",
    "            xticklabels=labels,yticklabels=labels)                     # disable colorbar\n",
    "\n",
    "# # re-enable outer spines\n",
    "# sns.despine(left=False, right=False, top=False, bottom=False)"
   ]
  },
  {
   "cell_type": "code",
   "execution_count": 29,
   "metadata": {},
   "outputs": [
    {
     "name": "stdout",
     "output_type": "stream",
     "text": [
      "Test Accuracy Score 0.9125\n"
     ]
    }
   ],
   "source": [
    "acc_score = accuracy_score(test['title'],test[\"predict\"])\n",
    "print(\"Test Accuracy Score\",acc_score)"
   ]
  },
  {
   "cell_type": "markdown",
   "metadata": {},
   "source": [
    "# Experimenting with ivfflat index"
   ]
  },
  {
   "cell_type": "code",
   "execution_count": 30,
   "metadata": {},
   "outputs": [
    {
     "name": "stdout",
     "output_type": "stream",
     "text": [
      "True\n",
      "1600\n"
     ]
    }
   ],
   "source": [
    "# second index \n",
    "\n",
    "\n",
    "#save the index once its created\n",
    "def save_index(index):\n",
    "    path = os.path.join(\"./data/\",\"news_ivf_flat\")\n",
    "    faiss.write_index(index, path)\n",
    "\n",
    "\n",
    "nlist = 5  # number of clusters\n",
    "dimension=384 # embeddings dimension\n",
    "\n",
    "# we have used flat Index and with Inner product\n",
    "def create_index_ivf(mappings,samples,nlist=nlist,dimension=dimension):\n",
    "    quantiser = faiss.IndexFlatL2(dimension)  \n",
    "    index = faiss.IndexIVFFlat(quantiser, dimension, nlist,   faiss.METRIC_L2)\n",
    "    index.train(samples)\n",
    "    index.add(samples)   # add the vectors and update the index\n",
    "    print(index.is_trained)  # True\n",
    "    print(index.ntotal)  \n",
    "    index.add_with_ids(samples,np.array(list(mappings.keys())))\n",
    "    save_index(index)\n",
    "    return\n",
    "\n",
    "\n",
    "create_index_ivf(mappings=mappings,samples=samples)"
   ]
  },
  {
   "cell_type": "markdown",
   "metadata": {},
   "source": [
    "# Reading and searching inside ivfflat index"
   ]
  },
  {
   "cell_type": "code",
   "execution_count": 31,
   "metadata": {},
   "outputs": [],
   "source": [
    "\n",
    "\n",
    "\n",
    "#read the index\n",
    "index = faiss.read_index(\"./data/news_ivf_flat\")\n",
    "\n",
    "# embeddings for query\n",
    "def predict_embeddings(query):\n",
    "    query_embedding=model.encode(query)\n",
    "    query_embedding=np.asarray([query_embedding],dtype=\"float32\")\n",
    "    return query_embedding\n",
    "    \n",
    "\n",
    "#predict for given query\n",
    "def predict(query,mappings):\n",
    "    cleaned_query= clean(query)\n",
    "    query_embedding=predict_embeddings(cleaned_query)\n",
    "    faiss.normalize_L2(query_embedding)\n",
    "    D, I = index.search(query_embedding, 5) # d is the distance and I is the index number \n",
    "    for values in I:\n",
    "        for distance in D:\n",
    "            details= {'cleaned_text':train.iloc[values][\"cleaned_data\"],\n",
    "            'category':train.iloc[values][\"title\"],\n",
    "            'score':distance\n",
    "            }\n",
    "            print(\"===============================================\")\n",
    "            print(pd.DataFrame(details))\n",
    "            print(\"===============================================\")\n",
    "    return most_frequent([mappings[id_] for id_ in I[0]])"
   ]
  },
  {
   "cell_type": "code",
   "execution_count": 32,
   "metadata": {},
   "outputs": [
    {
     "name": "stdout",
     "output_type": "stream",
     "text": [
      "===============================================\n",
      "                                                                                                                                                                                                                                                                                                                                                                                                                                                                                                                                        cleaned_text  \\\n",
      "1465  there s this old se here it s got the older style fans that remind me of a house ventilator a cylindrical drum instead of the bladed rotor i usually see anyway the se makes this loud buzzing noise due to vibration somewheres if i remove the screws and loosen the front from the back it quiets down i can only assume that the fan housing from this goofy thing is touching the back of the case and vibrating against it anyway any suggestions for where to get replacement fans and how to stealth this guy your experiences welcome   \n",
      "1465  there s this old se here it s got the older style fans that remind me of a house ventilator a cylindrical drum instead of the bladed rotor i usually see anyway the se makes this loud buzzing noise due to vibration somewheres if i remove the screws and loosen the front from the back it quiets down i can only assume that the fan housing from this goofy thing is touching the back of the case and vibrating against it anyway any suggestions for where to get replacement fans and how to stealth this guy your experiences welcome   \n",
      "1408                                                                                                                                                                                                       here is a list of the firstclass systems in illinois chicago machine chicago il insane domain chicago il mac universe bbs chicago il the net rockford il mactripp wilmette il innovators vernon hills il if anyone wants the numbers to more firstclass systems i would be glad to post the complete list jason hyerstay adrenaline admin   \n",
      "1408                                                                                                                                                                                                       here is a list of the firstclass systems in illinois chicago machine chicago il insane domain chicago il mac universe bbs chicago il the net rockford il mactripp wilmette il innovators vernon hills il if anyone wants the numbers to more firstclass systems i would be glad to post the complete list jason hyerstay adrenaline admin   \n",
      "459                                                                                                                                                                                                                                                                                                                                                                                                                        also photoshopii is out soon has anyone got a date and any cofmments andy andrew leahy aleahy cch coventry ac uk odd frog   \n",
      "\n",
      "                   category     score  \n",
      "1465  comp.sys.mac.hardware  1.576254  \n",
      "1465  comp.sys.mac.hardware  1.576254  \n",
      "1408  comp.sys.mac.hardware  1.579213  \n",
      "1408  comp.sys.mac.hardware  1.579213  \n",
      "459           comp.graphics  1.583043  \n",
      "===============================================\n"
     ]
    }
   ],
   "source": [
    "res=predict(query=\"'I was wondering if anyone out there could enlighten me on this car I saw\\nthe other day. It was a 2-door sports car, looked to be from the late 60s/\\nearly 70s. It was called a Bricklin. The doors were really small. In addition,\\nthe front bumper was separate from the rest of the body. This is \\nall I know. If anyone can tellme a model name, engine specs, years\\nof production, where this car is made, history, or whatever info you\\nhave on this funky looking car, please e-mail.\",mappings=mappings)"
   ]
  },
  {
   "cell_type": "code",
   "execution_count": 33,
   "metadata": {},
   "outputs": [],
   "source": [
    "def test_predict_ivf(query,mappings=mappings):\n",
    "    cleaned_query= clean(query)\n",
    "    query_embedding=predict_embeddings(cleaned_query)\n",
    "    faiss.normalize_L2(query_embedding)\n",
    "    D, I = index.search(query_embedding, 5) # d is the distance and I is the index number \n",
    "    return most_frequent([mappings[id_] for id_ in I[0]])[0][0]\n",
    "\n",
    "\n",
    "test[\"predict_ivf\"]=test[\"cleaned_data\"].astype(str).apply(lambda x:test_predict_ivf(x))"
   ]
  },
  {
   "cell_type": "markdown",
   "metadata": {},
   "source": [
    "## time taken for ivfflat"
   ]
  },
  {
   "cell_type": "code",
   "execution_count": 34,
   "metadata": {},
   "outputs": [
    {
     "name": "stdout",
     "output_type": "stream",
     "text": [
      "comp.graphics 0.016666173934936523\n"
     ]
    }
   ],
   "source": [
    "start=time.time()\n",
    "print(test_predict_ivf(\"intel graphics\",mappings),time.time()-start)"
   ]
  },
  {
   "cell_type": "markdown",
   "metadata": {},
   "source": [
    "## evaluate ivfflat results"
   ]
  },
  {
   "cell_type": "code",
   "execution_count": 35,
   "metadata": {},
   "outputs": [
    {
     "name": "stdout",
     "output_type": "stream",
     "text": [
      "                        precision    recall  f1-score   support\n",
      "\n",
      "         comp.graphics       0.85      0.82      0.84        80\n",
      " comp.sys.mac.hardware       0.89      0.89      0.89        80\n",
      "               sci.med       0.93      0.95      0.94        80\n",
      "             sci.space       0.86      0.85      0.86        80\n",
      "soc.religion.christian       0.94      0.95      0.94        80\n",
      "\n",
      "              accuracy                           0.89       400\n",
      "             macro avg       0.89      0.89      0.89       400\n",
      "          weighted avg       0.89      0.89      0.89       400\n",
      "\n"
     ]
    },
    {
     "data": {
      "text/plain": [
       "<Axes: >"
      ]
     },
     "execution_count": 35,
     "metadata": {},
     "output_type": "execute_result"
    },
    {
     "data": {
      "image/png": "[encoded data removed]",
      "text/plain": [
       "<Figure size 640x480 with 2 Axes>"
      ]
     },
     "metadata": {},
     "output_type": "display_data"
    }
   ],
   "source": [
    "\n",
    "print(classification_report(test['title'],test[\"predict_ivf\"]))\n",
    "cm2 = confusion_matrix(test['title'],test[\"predict_ivf\"])\n",
    "labels = ['comp.graphics','comp.sys.mac.hardware','sci.med','sci.space','soc.religion.christian']\n",
    "sns.heatmap(cm2, fmt='d', annot=True,\n",
    "     # set all to white\n",
    "            linewidths=0.5, linecolor='w',  # draw black grid lines\n",
    "            xticklabels=labels,yticklabels=labels)   "
   ]
  },
  {
   "cell_type": "code",
   "execution_count": 36,
   "metadata": {},
   "outputs": [
    {
     "name": "stdout",
     "output_type": "stream",
     "text": [
      "                        precision    recall  f1-score   support\n",
      "\n",
      "         comp.graphics       0.85      0.82      0.84        80\n",
      " comp.sys.mac.hardware       0.89      0.89      0.89        80\n",
      "               sci.med       0.93      0.95      0.94        80\n",
      "             sci.space       0.86      0.85      0.86        80\n",
      "soc.religion.christian       0.94      0.95      0.94        80\n",
      "\n",
      "              accuracy                           0.89       400\n",
      "             macro avg       0.89      0.89      0.89       400\n",
      "          weighted avg       0.89      0.89      0.89       400\n",
      "\n"
     ]
    }
   ],
   "source": [
    "print(classification_report(test['title'],test[\"predict_ivf\"]))\n",
    "cm2 = confusion_matrix(test['title'],test[\"predict_ivf\"])"
   ]
  },
  {
   "cell_type": "code",
   "execution_count": 37,
   "metadata": {},
   "outputs": [
    {
     "name": "stdout",
     "output_type": "stream",
     "text": [
      "Test Accuracy Score 0.8925\n"
     ]
    }
   ],
   "source": [
    "acc_score = accuracy_score(test['title'],test[\"predict_ivf\"])\n",
    "print(\"Test Accuracy Score\",acc_score)"
   ]
  }
 ],
 "metadata": {
  "kernelspec": {
   "display_name": "env_38",
   "language": "python",
   "name": "python3"
  },
  "language_info": {
   "codemirror_mode": {
    "name": "ipython",
    "version": 3
   },
   "file_extension": ".py",
   "mimetype": "text/x-python",
   "name": "python",
   "nbconvert_exporter": "python",
   "pygments_lexer": "ipython3",
   "version": "3.8.18"
  },
  "orig_nbformat": 4
 },
 "nbformat": 4,
 "nbformat_minor": 2
}
